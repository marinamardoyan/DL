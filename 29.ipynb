{
 "cells": [
  {
   "cell_type": "code",
   "execution_count": 272,
   "metadata": {},
   "outputs": [
    {
     "name": "stdout",
     "output_type": "stream",
     "text": [
      "Defaulting to user installation because normal site-packages is not writeable\n",
      "Requirement already satisfied: transformers in c:\\users\\пользователь\\appdata\\roaming\\python\\python311\\site-packages (4.51.3)\n",
      "Requirement already satisfied: filelock in c:\\programdata\\anaconda3\\lib\\site-packages (from transformers) (3.13.1)\n",
      "Requirement already satisfied: huggingface-hub<1.0,>=0.30.0 in c:\\users\\пользователь\\appdata\\roaming\\python\\python311\\site-packages (from transformers) (0.31.2)\n",
      "Requirement already satisfied: numpy>=1.17 in c:\\programdata\\anaconda3\\lib\\site-packages (from transformers) (1.26.4)\n",
      "Requirement already satisfied: packaging>=20.0 in c:\\programdata\\anaconda3\\lib\\site-packages (from transformers) (23.1)\n",
      "Requirement already satisfied: pyyaml>=5.1 in c:\\programdata\\anaconda3\\lib\\site-packages (from transformers) (6.0.1)\n",
      "Requirement already satisfied: regex!=2019.12.17 in c:\\users\\пользователь\\appdata\\roaming\\python\\python311\\site-packages (from transformers) (2024.11.6)\n",
      "Requirement already satisfied: requests in c:\\programdata\\anaconda3\\lib\\site-packages (from transformers) (2.31.0)\n",
      "Requirement already satisfied: tokenizers<0.22,>=0.21 in c:\\users\\пользователь\\appdata\\roaming\\python\\python311\\site-packages (from transformers) (0.21.1)\n",
      "Requirement already satisfied: safetensors>=0.4.3 in c:\\users\\пользователь\\appdata\\roaming\\python\\python311\\site-packages (from transformers) (0.5.3)\n",
      "Requirement already satisfied: tqdm>=4.27 in c:\\programdata\\anaconda3\\lib\\site-packages (from transformers) (4.65.0)\n",
      "Requirement already satisfied: fsspec>=2023.5.0 in c:\\programdata\\anaconda3\\lib\\site-packages (from huggingface-hub<1.0,>=0.30.0->transformers) (2023.10.0)\n",
      "Requirement already satisfied: typing-extensions>=3.7.4.3 in c:\\users\\пользователь\\appdata\\roaming\\python\\python311\\site-packages (from huggingface-hub<1.0,>=0.30.0->transformers) (4.12.2)\n",
      "Requirement already satisfied: colorama in c:\\programdata\\anaconda3\\lib\\site-packages (from tqdm>=4.27->transformers) (0.4.6)\n",
      "Requirement already satisfied: charset-normalizer<4,>=2 in c:\\programdata\\anaconda3\\lib\\site-packages (from requests->transformers) (2.0.4)\n",
      "Requirement already satisfied: idna<4,>=2.5 in c:\\programdata\\anaconda3\\lib\\site-packages (from requests->transformers) (3.4)\n",
      "Requirement already satisfied: urllib3<3,>=1.21.1 in c:\\programdata\\anaconda3\\lib\\site-packages (from requests->transformers) (2.0.7)\n",
      "Requirement already satisfied: certifi>=2017.4.17 in c:\\programdata\\anaconda3\\lib\\site-packages (from requests->transformers) (2024.8.30)\n",
      "Note: you may need to restart the kernel to use updated packages.\n"
     ]
    }
   ],
   "source": [
    "pip install transformers"
   ]
  },
  {
   "cell_type": "code",
   "execution_count": 314,
   "metadata": {
    "id": "DsETVRyXW4J8"
   },
   "outputs": [],
   "source": [
    "import pandas as pd\n",
    "from torch.utils.data import DataLoader,Dataset, random_split\n",
    "import torch\n",
    "import numpy as np\n",
    "import re\n",
    "import nltk\n",
    "from nltk.corpus import stopwords\n",
    "from nltk.tokenize import word_tokenize\n",
    "import pymorphy2\n",
    "from nltk.stem.snowball import RussianStemmer\n",
    "from collections import Counter\n",
    "from wordcloud import WordCloud\n",
    "import matplotlib.pyplot as plt\n",
    "from sklearn.feature_extraction.text import TfidfVectorizer\n",
    "from sklearn.model_selection import train_test_split\n",
    "from torch import nn\n",
    "from sklearn.metrics import f1_score\n",
    "import matplotlib.pyplot as plt\n",
    "from gensim.models import Word2Vec\n",
    "from IPython.display import clear_output\n",
    "from tensorflow.keras.preprocessing.text import Tokenizer\n",
    "from tensorflow.keras.preprocessing.sequence import pad_sequences\n",
    "import torch.nn.functional as F\n",
    "from torch.optim import AdamW"
   ]
  },
  {
   "cell_type": "markdown",
   "metadata": {},
   "source": [
    "### Данные"
   ]
  },
  {
   "cell_type": "code",
   "execution_count": 340,
   "metadata": {
    "id": "dkhwxyEYXqFs"
   },
   "outputs": [],
   "source": [
    "train_data = pd.read_csv('train (7).csv').drop(columns = 'id')"
   ]
  },
  {
   "cell_type": "code",
   "execution_count": 341,
   "metadata": {
    "id": "5YVX21hLUEg2"
   },
   "outputs": [],
   "source": [
    "test_data = pd.read_csv('test (7).csv').drop(columns = 'id')"
   ]
  },
  {
   "cell_type": "code",
   "execution_count": 10,
   "metadata": {
    "colab": {
     "base_uri": "https://localhost:8080/",
     "height": 206
    },
    "id": "zuT8-ZpkZzLN",
    "outputId": "5f7f444b-ffd5-4d57-e591-16dd99f676e3"
   },
   "outputs": [
    {
     "data": {
      "text/html": [
       "<div>\n",
       "<style scoped>\n",
       "    .dataframe tbody tr th:only-of-type {\n",
       "        vertical-align: middle;\n",
       "    }\n",
       "\n",
       "    .dataframe tbody tr th {\n",
       "        vertical-align: top;\n",
       "    }\n",
       "\n",
       "    .dataframe thead th {\n",
       "        text-align: right;\n",
       "    }\n",
       "</style>\n",
       "<table border=\"1\" class=\"dataframe\">\n",
       "  <thead>\n",
       "    <tr style=\"text-align: right;\">\n",
       "      <th></th>\n",
       "      <th>text</th>\n",
       "      <th>labels</th>\n",
       "    </tr>\n",
       "  </thead>\n",
       "  <tbody>\n",
       "    <tr>\n",
       "      <th>0</th>\n",
       "      <td>15 января\\nДетская развлекательная программа\\n...</td>\n",
       "      <td>1 0 0 0 1 0 0 0 1 0 0 0 1 1 1 1 1 0 0 1</td>\n",
       "    </tr>\n",
       "    <tr>\n",
       "      <th>1</th>\n",
       "      <td>13 и 14 августа\\nВыходные в Меге\\nhttps://t.me...</td>\n",
       "      <td>0 0 0 1 0 0 0 0 1 0 0 0 1 1 0 1 1 0 0 1</td>\n",
       "    </tr>\n",
       "    <tr>\n",
       "      <th>2</th>\n",
       "      <td>Йокнапатофа\\nПостановка Театр им. Маяковского\\...</td>\n",
       "      <td>0 0 0 0 1 0 0 0 0 0 0 0 1 1 0 1 1 0 0 1</td>\n",
       "    </tr>\n",
       "    <tr>\n",
       "      <th>3</th>\n",
       "      <td>Впервые в Уфе танцевальная терапия в группе с ...</td>\n",
       "      <td>1 1 0 0 1 0 0 1 1 1 1 1 1 1 1 0 0 1 1 0</td>\n",
       "    </tr>\n",
       "    <tr>\n",
       "      <th>4</th>\n",
       "      <td>🎹\\nGRAND PIANO COMPETITION\\n🎹\\nДрузья, сегодня...</td>\n",
       "      <td>1 1 0 0 0 0 0 1 1 0 0 1 1 1 1 0 1 1 1 0</td>\n",
       "    </tr>\n",
       "  </tbody>\n",
       "</table>\n",
       "</div>"
      ],
      "text/plain": [
       "                                                text  \\\n",
       "0  15 января\\nДетская развлекательная программа\\n...   \n",
       "1  13 и 14 августа\\nВыходные в Меге\\nhttps://t.me...   \n",
       "2  Йокнапатофа\\nПостановка Театр им. Маяковского\\...   \n",
       "3  Впервые в Уфе танцевальная терапия в группе с ...   \n",
       "4  🎹\\nGRAND PIANO COMPETITION\\n🎹\\nДрузья, сегодня...   \n",
       "\n",
       "                                    labels  \n",
       "0  1 0 0 0 1 0 0 0 1 0 0 0 1 1 1 1 1 0 0 1  \n",
       "1  0 0 0 1 0 0 0 0 1 0 0 0 1 1 0 1 1 0 0 1  \n",
       "2  0 0 0 0 1 0 0 0 0 0 0 0 1 1 0 1 1 0 0 1  \n",
       "3  1 1 0 0 1 0 0 1 1 1 1 1 1 1 1 0 0 1 1 0  \n",
       "4  1 1 0 0 0 0 0 1 1 0 0 1 1 1 1 0 1 1 1 0  "
      ]
     },
     "execution_count": 10,
     "metadata": {},
     "output_type": "execute_result"
    }
   ],
   "source": [
    "train_data.head()"
   ]
  },
  {
   "cell_type": "code",
   "execution_count": 342,
   "metadata": {
    "id": "C5J0Eg-DZ3Fl"
   },
   "outputs": [],
   "source": [
    "train_data.labels = train_data.labels.apply(lambda x:  torch.FloatTensor([int(i) for i in  x.split()]))"
   ]
  },
  {
   "cell_type": "code",
   "execution_count": 343,
   "metadata": {
    "id": "N_kNm5qujaW8"
   },
   "outputs": [],
   "source": [
    "import inspect\n",
    "if not hasattr(inspect, 'getargspec'):\n",
    "    import collections\n",
    "    def getargspec(func):\n",
    "        sig = inspect.signature(func)\n",
    "        args = []\n",
    "        varargs = None\n",
    "        varkw = None\n",
    "        defaults = []\n",
    "        for param in sig.parameters.values():\n",
    "            if param.kind == param.VAR_POSITIONAL:\n",
    "                varargs = param.name\n",
    "            elif param.kind == param.VAR_KEYWORD:\n",
    "                varkw = param.name\n",
    "            else:\n",
    "                args.append(param.name)\n",
    "                if param.default is not param.empty:\n",
    "                    defaults.append(param.default)\n",
    "        return collections.namedtuple('ArgSpec', 'args varargs keywords defaults')(args, varargs, varkw, tuple(defaults) if defaults else None)\n",
    "    inspect.getargspec = getargspec"
   ]
  },
  {
   "cell_type": "code",
   "execution_count": 344,
   "metadata": {
    "colab": {
     "base_uri": "https://localhost:8080/"
    },
    "id": "19DOJH2ijtOd",
    "outputId": "38fe5703-64e6-4f27-ad1a-bc4b78104751"
   },
   "outputs": [
    {
     "name": "stderr",
     "output_type": "stream",
     "text": [
      "[nltk_data] Downloading package stopwords to\n",
      "[nltk_data]     C:\\Users\\Пользователь\\AppData\\Roaming\\nltk_data...\n",
      "[nltk_data]   Package stopwords is already up-to-date!\n"
     ]
    },
    {
     "data": {
      "text/plain": [
       "True"
      ]
     },
     "execution_count": 344,
     "metadata": {},
     "output_type": "execute_result"
    }
   ],
   "source": [
    "nltk.download('stopwords')"
   ]
  },
  {
   "cell_type": "code",
   "execution_count": 345,
   "metadata": {
    "id": "HgGRiFGPjQYl"
   },
   "outputs": [],
   "source": [
    "morph = pymorphy2.MorphAnalyzer()\n",
    "stemmer = RussianStemmer()\n",
    "stop_words = set(stopwords.words('russian'))"
   ]
  },
  {
   "cell_type": "markdown",
   "metadata": {},
   "source": [
    "### Напишем базовый препроцессинг "
   ]
  },
  {
   "cell_type": "code",
   "execution_count": 346,
   "metadata": {
    "id": "_f0spRyxhSZF"
   },
   "outputs": [],
   "source": [
    "def preprocess_text(text, method='lemmatize'):\n",
    "    # приводим весь текст к нижнему регистру\n",
    "    text = text.lower()\n",
    "    # замена всего некиррилического на пробелы\n",
    "    text = re.sub(r'[^а-яё\\s]', ' ', text)\n",
    "    # могли появиться повторные пробелы - удаляем их\n",
    "    text = re.sub(r'\\s+', ' ', text).strip()\n",
    "    # токенизация (разбиение на слова)\n",
    "    tokens = text.split()\n",
    "    # лемматизация или стемматизация\n",
    "    if method == 'lemmatize':\n",
    "        tokens = [morph.parse(token)[0].normal_form for token in tokens]\n",
    "    elif method == 'stem':\n",
    "        tokens = [stemmer.stem(token) for token in tokens]\n",
    "    # удаление коротких слов и стоп слов\n",
    "    tokens = [token for token in tokens if token not in stop_words and len(token) > 2]\n",
    "    return ' '.join(tokens)"
   ]
  },
  {
   "cell_type": "code",
   "execution_count": 438,
   "metadata": {
    "id": "Z6gyNqILhSVd"
   },
   "outputs": [],
   "source": [
    "train_data['processed_text'] = train_data['text'].apply(lambda x: preprocess_text(x, method='stem'))"
   ]
  },
  {
   "cell_type": "code",
   "execution_count": 437,
   "metadata": {
    "id": "V3KzeVLcUAQ8"
   },
   "outputs": [],
   "source": [
    "test_data['processed_text'] = test_data['text'].apply(lambda x: preprocess_text(x, method='stem'))"
   ]
  },
  {
   "cell_type": "code",
   "execution_count": 439,
   "metadata": {
    "colab": {
     "base_uri": "https://localhost:8080/",
     "height": 597
    },
    "id": "c5H1rGusmE6g",
    "outputId": "833087e0-d21c-4e1e-bcc7-162e3ed9d969"
   },
   "outputs": [
    {
     "data": {
      "text/html": [
       "<div>\n",
       "<style scoped>\n",
       "    .dataframe tbody tr th:only-of-type {\n",
       "        vertical-align: middle;\n",
       "    }\n",
       "\n",
       "    .dataframe tbody tr th {\n",
       "        vertical-align: top;\n",
       "    }\n",
       "\n",
       "    .dataframe thead th {\n",
       "        text-align: right;\n",
       "    }\n",
       "</style>\n",
       "<table border=\"1\" class=\"dataframe\">\n",
       "  <thead>\n",
       "    <tr style=\"text-align: right;\">\n",
       "      <th></th>\n",
       "      <th>text</th>\n",
       "      <th>labels</th>\n",
       "      <th>processed_text</th>\n",
       "      <th>processed_w2w</th>\n",
       "      <th>processed_text_4</th>\n",
       "    </tr>\n",
       "  </thead>\n",
       "  <tbody>\n",
       "    <tr>\n",
       "      <th>0</th>\n",
       "      <td>15 января\\nДетская развлекательная программа\\n...</td>\n",
       "      <td>[tensor(1.), tensor(0.), tensor(0.), tensor(0....</td>\n",
       "      <td>январ детск развлекательн программ бесплатн ка...</td>\n",
       "      <td>[января, детская, развлекательная, программа, ...</td>\n",
       "      <td>январ детск развлекательн программ бесплатн ca...</td>\n",
       "    </tr>\n",
       "    <tr>\n",
       "      <th>1</th>\n",
       "      <td>13 и 14 августа\\nВыходные в Меге\\nhttps://t.me...</td>\n",
       "      <td>[tensor(0.), tensor(0.), tensor(0.), tensor(1....</td>\n",
       "      <td>август выходн мег мегапарк</td>\n",
       "      <td>[августа, выходные, меге, https, me, мегапарк]</td>\n",
       "      <td>август выходн мег https megaufa official мегапарк</td>\n",
       "    </tr>\n",
       "    <tr>\n",
       "      <th>2</th>\n",
       "      <td>Йокнапатофа\\nПостановка Театр им. Маяковского\\...</td>\n",
       "      <td>[tensor(0.), tensor(0.), tensor(0.), tensor(0....</td>\n",
       "      <td>йокнапатоф постановк театр маяковск билет</td>\n",
       "      <td>[иокнапатофа, постановка, театр, им, маяковско...</td>\n",
       "      <td>йокнапатоф постановк театр маяковск билет р</td>\n",
       "    </tr>\n",
       "    <tr>\n",
       "      <th>3</th>\n",
       "      <td>Впервые в Уфе танцевальная терапия в группе с ...</td>\n",
       "      <td>[tensor(1.), tensor(1.), tensor(0.), tensor(0....</td>\n",
       "      <td>вперв танцевальн терап групп практик психолог ...</td>\n",
       "      <td>[впервые, уфе, танцевальная, терапия, группе, ...</td>\n",
       "      <td>вперв уф танцевальн терап групп практик психол...</td>\n",
       "    </tr>\n",
       "    <tr>\n",
       "      <th>4</th>\n",
       "      <td>🎹\\nGRAND PIANO COMPETITION\\n🎹\\nДрузья, сегодня...</td>\n",
       "      <td>[tensor(1.), tensor(1.), tensor(0.), tensor(0....</td>\n",
       "      <td>друз сегодн открыт международн конкурс пианист...</td>\n",
       "      <td>[grand, piano, competition, друзья, сегодня, о...</td>\n",
       "      <td>grand piano competition друз сегодн открыт iv ...</td>\n",
       "    </tr>\n",
       "    <tr>\n",
       "      <th>...</th>\n",
       "      <td>...</td>\n",
       "      <td>...</td>\n",
       "      <td>...</td>\n",
       "      <td>...</td>\n",
       "      <td>...</td>\n",
       "    </tr>\n",
       "    <tr>\n",
       "      <th>29563</th>\n",
       "      <td>Выступление Симфо-группы TEODOR\\n⠀\\n22 июля в ...</td>\n",
       "      <td>[tensor(0.), tensor(0.), tensor(0.), tensor(0....</td>\n",
       "      <td>выступлен симф групп июл парк мег амфитеатр фо...</td>\n",
       "      <td>[выступление, симфо, группы, teodor, июля, пар...</td>\n",
       "      <td>выступлен симф групп teodor июл парк мег амфит...</td>\n",
       "    </tr>\n",
       "    <tr>\n",
       "      <th>29564</th>\n",
       "      <td>🔤\\nЮЗИКЛ \"МОНТЕ-КРИСТО\" ТЕАТР ОПЕРЕТТЫ\\nЭто оч...</td>\n",
       "      <td>[tensor(1.), tensor(1.), tensor(1.), tensor(0....</td>\n",
       "      <td>юзикл монт крист театр оперетт очен ярк увлека...</td>\n",
       "      <td>[юзикл, монте, кристо, театр, оперетты, это, о...</td>\n",
       "      <td>юзикл монт крист театр оперетт эт очен ярк увл...</td>\n",
       "    </tr>\n",
       "    <tr>\n",
       "      <th>29565</th>\n",
       "      <td>РАСПИСАНИЕ БЕСПЛАТНЫХ ЭКСКУРСИЙ\\nв октябре 202...</td>\n",
       "      <td>[tensor(1.), tensor(1.), tensor(0.), tensor(0....</td>\n",
       "      <td>расписан бесплатн экскурс октябр год кисловодс...</td>\n",
       "      <td>[расписание, бесплатных, экскурсии, октябре, г...</td>\n",
       "      <td>расписан бесплатн экскурс октябр год г кислово...</td>\n",
       "    </tr>\n",
       "    <tr>\n",
       "      <th>29566</th>\n",
       "      <td>Долгожданный концерт Надежды Кадышевой в Рязан...</td>\n",
       "      <td>[tensor(1.), tensor(0.), tensor(1.), tensor(0....</td>\n",
       "      <td>долгожда концерт надежд кадышев рязан состо но...</td>\n",
       "      <td>[долгожданныи, концерт, надежды, кадышевои, ря...</td>\n",
       "      <td>долгожда концерт надежд кадышев рязан состо но...</td>\n",
       "    </tr>\n",
       "    <tr>\n",
       "      <th>29567</th>\n",
       "      <td>Спектакль-победитель фестиваля «Амурская осень...</td>\n",
       "      <td>[tensor(0.), tensor(1.), tensor(0.), tensor(0....</td>\n",
       "      <td>спектакл победител фестивал амурск осен санкт ...</td>\n",
       "      <td>[спектакль, победитель, фестиваля, амурская, о...</td>\n",
       "      <td>спектакл победител фестивал амурск осен санкт ...</td>\n",
       "    </tr>\n",
       "  </tbody>\n",
       "</table>\n",
       "<p>29568 rows × 5 columns</p>\n",
       "</div>"
      ],
      "text/plain": [
       "                                                    text  \\\n",
       "0      15 января\\nДетская развлекательная программа\\n...   \n",
       "1      13 и 14 августа\\nВыходные в Меге\\nhttps://t.me...   \n",
       "2      Йокнапатофа\\nПостановка Театр им. Маяковского\\...   \n",
       "3      Впервые в Уфе танцевальная терапия в группе с ...   \n",
       "4      🎹\\nGRAND PIANO COMPETITION\\n🎹\\nДрузья, сегодня...   \n",
       "...                                                  ...   \n",
       "29563  Выступление Симфо-группы TEODOR\\n⠀\\n22 июля в ...   \n",
       "29564  🔤\\nЮЗИКЛ \"МОНТЕ-КРИСТО\" ТЕАТР ОПЕРЕТТЫ\\nЭто оч...   \n",
       "29565  РАСПИСАНИЕ БЕСПЛАТНЫХ ЭКСКУРСИЙ\\nв октябре 202...   \n",
       "29566  Долгожданный концерт Надежды Кадышевой в Рязан...   \n",
       "29567  Спектакль-победитель фестиваля «Амурская осень...   \n",
       "\n",
       "                                                  labels  \\\n",
       "0      [tensor(1.), tensor(0.), tensor(0.), tensor(0....   \n",
       "1      [tensor(0.), tensor(0.), tensor(0.), tensor(1....   \n",
       "2      [tensor(0.), tensor(0.), tensor(0.), tensor(0....   \n",
       "3      [tensor(1.), tensor(1.), tensor(0.), tensor(0....   \n",
       "4      [tensor(1.), tensor(1.), tensor(0.), tensor(0....   \n",
       "...                                                  ...   \n",
       "29563  [tensor(0.), tensor(0.), tensor(0.), tensor(0....   \n",
       "29564  [tensor(1.), tensor(1.), tensor(1.), tensor(0....   \n",
       "29565  [tensor(1.), tensor(1.), tensor(0.), tensor(0....   \n",
       "29566  [tensor(1.), tensor(0.), tensor(1.), tensor(0....   \n",
       "29567  [tensor(0.), tensor(1.), tensor(0.), tensor(0....   \n",
       "\n",
       "                                          processed_text  \\\n",
       "0      январ детск развлекательн программ бесплатн ка...   \n",
       "1                             август выходн мег мегапарк   \n",
       "2              йокнапатоф постановк театр маяковск билет   \n",
       "3      вперв танцевальн терап групп практик психолог ...   \n",
       "4      друз сегодн открыт международн конкурс пианист...   \n",
       "...                                                  ...   \n",
       "29563  выступлен симф групп июл парк мег амфитеатр фо...   \n",
       "29564  юзикл монт крист театр оперетт очен ярк увлека...   \n",
       "29565  расписан бесплатн экскурс октябр год кисловодс...   \n",
       "29566  долгожда концерт надежд кадышев рязан состо но...   \n",
       "29567  спектакл победител фестивал амурск осен санкт ...   \n",
       "\n",
       "                                           processed_w2w  \\\n",
       "0      [января, детская, развлекательная, программа, ...   \n",
       "1         [августа, выходные, меге, https, me, мегапарк]   \n",
       "2      [иокнапатофа, постановка, театр, им, маяковско...   \n",
       "3      [впервые, уфе, танцевальная, терапия, группе, ...   \n",
       "4      [grand, piano, competition, друзья, сегодня, о...   \n",
       "...                                                  ...   \n",
       "29563  [выступление, симфо, группы, teodor, июля, пар...   \n",
       "29564  [юзикл, монте, кристо, театр, оперетты, это, о...   \n",
       "29565  [расписание, бесплатных, экскурсии, октябре, г...   \n",
       "29566  [долгожданныи, концерт, надежды, кадышевои, ря...   \n",
       "29567  [спектакль, победитель, фестиваля, амурская, о...   \n",
       "\n",
       "                                        processed_text_4  \n",
       "0      январ детск развлекательн программ бесплатн ca...  \n",
       "1      август выходн мег https megaufa official мегапарк  \n",
       "2            йокнапатоф постановк театр маяковск билет р  \n",
       "3      вперв уф танцевальн терап групп практик психол...  \n",
       "4      grand piano competition друз сегодн открыт iv ...  \n",
       "...                                                  ...  \n",
       "29563  выступлен симф групп teodor июл парк мег амфит...  \n",
       "29564  юзикл монт крист театр оперетт эт очен ярк увл...  \n",
       "29565  расписан бесплатн экскурс октябр год г кислово...  \n",
       "29566  долгожда концерт надежд кадышев рязан состо но...  \n",
       "29567  спектакл победител фестивал амурск осен санкт ...  \n",
       "\n",
       "[29568 rows x 5 columns]"
      ]
     },
     "execution_count": 439,
     "metadata": {},
     "output_type": "execute_result"
    }
   ],
   "source": [
    "train_data"
   ]
  },
  {
   "cell_type": "markdown",
   "metadata": {},
   "source": [
    "#### Посмотрим на самые популярные слова"
   ]
  },
  {
   "cell_type": "code",
   "execution_count": null,
   "metadata": {
    "id": "N4kQuheXnKGS"
   },
   "outputs": [],
   "source": [
    "all_text = ' '.join(train_data['processed_text'])\n",
    "word_freq = Counter(all_text.split())\n",
    "most_common = dict(word_freq.most_common(100))\n",
    "least_common = dict(word_freq.most_common()[:-101:-1])"
   ]
  },
  {
   "cell_type": "code",
   "execution_count": null,
   "metadata": {
    "colab": {
     "base_uri": "https://localhost:8080/"
    },
    "id": "bCNBwEt3n7Qh",
    "outputId": "691c80da-f0aa-43dd-d123-6c20b28795f2"
   },
   "outputs": [
    {
     "data": {
      "text/plain": [
       "{'билет': 24298,\n",
       " 'спектакль': 14891,\n",
       " 'концерт': 12186,\n",
       " 'скидка': 12166,\n",
       " 'театр': 11717,\n",
       " 'промокод': 11287,\n",
       " 'это': 10720,\n",
       " 'свой': 9260,\n",
       " 'который': 9163,\n",
       " 'год': 8847,\n",
       " 'ссылка': 8518,\n",
       " 'москва': 7368,\n",
       " 'наш': 7271,\n",
       " 'афиша': 7083,\n",
       " 'весь': 6586,\n",
       " 'место': 6321,\n",
       " 'всё': 5995,\n",
       " 'новый': 5801,\n",
       " 'мероприятие': 5662,\n",
       " 'фестиваль': 5553,\n",
       " 'музыка': 5388,\n",
       " 'музей': 5247,\n",
       " 'история': 5170,\n",
       " 'начало': 5153,\n",
       " 'шоу': 5148,\n",
       " 'хороший': 4803,\n",
       " 'выставка': 4709,\n",
       " 'самый': 4641,\n",
       " 'программа': 4611,\n",
       " 'время': 4586,\n",
       " 'сцена': 4450,\n",
       " 'день': 4413,\n",
       " 'вход': 4337,\n",
       " 'жизнь': 4321,\n",
       " 'октябрь': 4298,\n",
       " 'комедия': 4151,\n",
       " 'ждать': 4106,\n",
       " 'зритель': 4037,\n",
       " 'каждый': 4000,\n",
       " 'декабрь': 3987,\n",
       " 'ноябрь': 3974,\n",
       " 'канал': 3816,\n",
       " 'парка': 3633,\n",
       " 'любовь': 3569,\n",
       " 'человек': 3469,\n",
       " 'пятигорск': 3466,\n",
       " 'сентябрь': 3464,\n",
       " 'музыкальный': 3459,\n",
       " 'вечер': 3413,\n",
       " 'мастер': 3380,\n",
       " 'игра': 3368,\n",
       " 'мир': 3354,\n",
       " 'август': 3307,\n",
       " 'гость': 3279,\n",
       " 'подписаться': 3255,\n",
       " 'оркестр': 3247,\n",
       " 'бесплатный': 3182,\n",
       " 'руб': 3134,\n",
       " 'июнь': 3105,\n",
       " 'ребёнок': 3073,\n",
       " 'дом': 3010,\n",
       " 'зал': 2970,\n",
       " 'друг': 2928,\n",
       " 'исполнение': 2875,\n",
       " 'постановка': 2821,\n",
       " 'март': 2783,\n",
       " 'июль': 2755,\n",
       " 'класс': 2747,\n",
       " 'группа': 2729,\n",
       " 'май': 2678,\n",
       " 'апрель': 2665,\n",
       " 'бесплатно': 2662,\n",
       " 'цена': 2642,\n",
       " 'экскурсия': 2591,\n",
       " 'центр': 2578,\n",
       " 'большой': 2564,\n",
       " 'проект': 2563,\n",
       " 'хит': 2546,\n",
       " 'бар': 2534,\n",
       " 'январь': 2486,\n",
       " 'город': 2468,\n",
       " 'встреча': 2445,\n",
       " 'стоимость': 2421,\n",
       " 'известный': 2415,\n",
       " 'свободный': 2404,\n",
       " 'рок': 2400,\n",
       " 'стать': 2362,\n",
       " 'первый': 2301,\n",
       " 'участник': 2301,\n",
       " 'произведение': 2297,\n",
       " 'александр': 2294,\n",
       " 'далее': 2269,\n",
       " 'мочь': 2257,\n",
       " 'ваш': 2251,\n",
       " 'час': 2227,\n",
       " 'атмосфера': 2221,\n",
       " 'регистрация': 2219,\n",
       " 'живой': 2207,\n",
       " 'февраль': 2201,\n",
       " 'яркий': 2186}"
      ]
     },
     "execution_count": 73,
     "metadata": {},
     "output_type": "execute_result"
    }
   ],
   "source": [
    "most_common"
   ]
  },
  {
   "cell_type": "code",
   "execution_count": null,
   "metadata": {
    "colab": {
     "base_uri": "https://localhost:8080/"
    },
    "id": "EbIPLor-oCDd",
    "outputId": "5227ac8f-7ae9-4f4c-c121-d7f5c1ef4b8a"
   },
   "outputs": [
    {
     "data": {
      "text/plain": [
       "{'юзикл': 1,\n",
       " 'похо': 1,\n",
       " 'алиулин': 1,\n",
       " 'луиза': 1,\n",
       " 'законодательный': 1,\n",
       " 'хаэн': 1,\n",
       " 'травер': 1,\n",
       " 'нейгауза': 1,\n",
       " 'еатрализовать': 1,\n",
       " 'каледин': 1,\n",
       " 'комрушко': 1,\n",
       " 'самоделка': 1,\n",
       " 'знайк': 1,\n",
       " 'млада': 1,\n",
       " 'цирковоешоу': 1,\n",
       " 'хабаровскийцирк': 1,\n",
       " 'свекровь': 1,\n",
       " 'дивина': 1,\n",
       " 'бега': 1,\n",
       " 'автономка': 1,\n",
       " 'собразец': 1,\n",
       " 'загребнев': 1,\n",
       " 'беспалый': 1,\n",
       " 'обьть': 1,\n",
       " 'скиллов': 1,\n",
       " 'чинчин': 1,\n",
       " 'масажа': 1,\n",
       " 'анджиевский': 1,\n",
       " 'новогодняядискотека': 1,\n",
       " 'нальчикский': 1,\n",
       " 'джани': 1,\n",
       " 'асладин': 1,\n",
       " 'бахтавар': 1,\n",
       " 'давидянин': 1,\n",
       " 'новогоднить': 1,\n",
       " 'зажирелый': 1,\n",
       " 'отплата': 1,\n",
       " 'дроботенко': 1,\n",
       " 'отвесный': 1,\n",
       " 'овеять': 1,\n",
       " 'окутаный': 1,\n",
       " 'овражик': 1,\n",
       " 'терпкость': 1,\n",
       " 'прогреть': 1,\n",
       " 'гуандун': 1,\n",
       " 'флегонтовый': 1,\n",
       " 'трехгорный': 1,\n",
       " 'взбудоражить': 1,\n",
       " 'лошадиный': 1,\n",
       " 'подъехать': 1,\n",
       " 'гастровилл': 1,\n",
       " 'миронович': 1,\n",
       " 'озарять': 1,\n",
       " 'граппеть': 1,\n",
       " 'соборусоздать': 1,\n",
       " 'скобелёвский': 1,\n",
       " 'мангабум': 1,\n",
       " 'галеви': 1,\n",
       " 'мельяк': 1,\n",
       " 'бенедикс': 1,\n",
       " 'родерих': 1,\n",
       " 'хаффнера': 1,\n",
       " 'стадиум': 1,\n",
       " 'фантастичыскый': 1,\n",
       " 'обжарщик': 1,\n",
       " 'блендова': 1,\n",
       " 'провереный': 1,\n",
       " 'программно': 1,\n",
       " 'исчерпать': 1,\n",
       " 'узы': 1,\n",
       " 'эшбрать': 1,\n",
       " 'пасториус': 1,\n",
       " 'жобить': 1,\n",
       " 'хэнкок': 1,\n",
       " 'кориа': 1,\n",
       " 'фаррес': 1,\n",
       " 'киносеть': 1,\n",
       " 'шаргун': 1,\n",
       " 'велединский': 1,\n",
       " 'шаргунов': 1,\n",
       " 'пропить': 1,\n",
       " 'географ': 1,\n",
       " 'велединской': 1,\n",
       " 'александрв': 1,\n",
       " 'облачно': 1,\n",
       " 'футурам': 1,\n",
       " 'голофон': 1,\n",
       " 'тарзанк': 1,\n",
       " 'взаимоисключающий': 1,\n",
       " 'аэроклуб': 1,\n",
       " 'корысть': 1,\n",
       " 'аванесов': 1,\n",
       " 'распорядитель': 1,\n",
       " 'фрош': 1,\n",
       " 'тарасенко': 1,\n",
       " 'блинд': 1,\n",
       " 'фальк': 1,\n",
       " 'заплечный': 1,\n",
       " 'айзенштайна': 1,\n",
       " 'конфи': 1}"
      ]
     },
     "execution_count": 74,
     "metadata": {},
     "output_type": "execute_result"
    }
   ],
   "source": [
    "least_common"
   ]
  },
  {
   "cell_type": "code",
   "execution_count": 463,
   "metadata": {
    "id": "wG6Z27mRoLmG"
   },
   "outputs": [],
   "source": [
    "X_train,X_test,y_train,y_test = train_test_split(train_data['processed_text'],train_data['labels'])"
   ]
  },
  {
   "cell_type": "code",
   "execution_count": 464,
   "metadata": {
    "id": "v0niGnqPszBW"
   },
   "outputs": [],
   "source": [
    "from sklearn.feature_extraction.text import TfidfVectorizer\n",
    "\n",
    "vectorizer = TfidfVectorizer(\n",
    "    max_df=0.95,\n",
    "    min_df=1,\n",
    "    ngram_range = (1, 3), # можно изменять n-граммы\n",
    "    max_features = 1000,  # можно изменять количество переменных\n",
    "    norm='l2',\n",
    "    sublinear_tf=True\n",
    ")\n",
    "\n",
    "\n",
    "X_train = vectorizer.fit_transform(X_train).toarray()\n",
    "X_test  = vectorizer.transform(X_test).toarray()"
   ]
  },
  {
   "cell_type": "code",
   "execution_count": 465,
   "metadata": {},
   "outputs": [],
   "source": [
    "test = vectorizer.fit_transform(test_data['clean_text']).toarray()"
   ]
  },
  {
   "cell_type": "code",
   "execution_count": 466,
   "metadata": {},
   "outputs": [],
   "source": [
    "class TestDataset(Dataset):\n",
    "    def __init__(self, X):\n",
    "        self.X = torch.FloatTensor(X)\n",
    "    \n",
    "    def __len__(self):\n",
    "        return len(self.X)\n",
    "\n",
    "    def __getitem__(self, idx):\n",
    "        return self.X[idx]"
   ]
  },
  {
   "cell_type": "code",
   "execution_count": 467,
   "metadata": {
    "id": "UFJKlAhuvMwd"
   },
   "outputs": [],
   "source": [
    "class TfidfDataset(Dataset):\n",
    "    def __init__(self, X,y):\n",
    "        self.X = torch.FloatTensor(X)\n",
    "        self.y = torch.stack(y.tolist())\n",
    "\n",
    "    def __len__(self):\n",
    "        return len(self.X)\n",
    "\n",
    "    def __getitem__(self, idx):\n",
    "        return self.X[idx], self.y[idx]\n",
    "\n",
    "train_dataset = TfidfDataset(X_train,y_train)\n",
    "test_dataset = TfidfDataset(X_test, y_test)\n",
    "\n",
    "train_loader = DataLoader(train_dataset, batch_size=32, shuffle=True)\n",
    "test_loader = DataLoader(test_dataset, batch_size=32, shuffle=True)"
   ]
  },
  {
   "cell_type": "code",
   "execution_count": 468,
   "metadata": {},
   "outputs": [],
   "source": [
    "test_dataset1 = TestDataset(test)"
   ]
  },
  {
   "cell_type": "code",
   "execution_count": 469,
   "metadata": {},
   "outputs": [],
   "source": [
    "test_loader1=DataLoader(test_dataset1, batch_size = 32)"
   ]
  },
  {
   "cell_type": "code",
   "execution_count": 483,
   "metadata": {
    "id": "NLmSGfJi2JJ0"
   },
   "outputs": [],
   "source": [
    "class Tfidf_Net(nn.Module):\n",
    "  def __init__(self, input_size, output_size):\n",
    "    super().__init__()\n",
    "    self.fc1 = nn.Linear(input_size, 512)\n",
    "    self.fc2 = nn.Linear(512, 256)\n",
    "    self.fc3 = nn.Linear(256, 128)\n",
    "    self.fc4 = nn.Linear(128, output_size)\n",
    "    self.dropout = nn.Dropout(0.3)\n",
    "    self.relu = nn.ReLU()\n",
    "\n",
    "\n",
    "  def forward(self, x):\n",
    "    x = self.relu(self.fc1(x))\n",
    "    x = self.dropout(x)\n",
    "    x = self.relu(self.fc2(x))\n",
    "    x = self.dropout(x)\n",
    "    x = self.relu(self.fc3(x))\n",
    "    x = self.fc4(x)\n",
    "    return x\n"
   ]
  },
  {
   "cell_type": "code",
   "execution_count": 484,
   "metadata": {
    "id": "FdKUmtot2I_q"
   },
   "outputs": [],
   "source": [
    "model = Tfidf_Net(input_size=X_train.shape[1], output_size=20)\n",
    "criterion = torch.nn.BCEWithLogitsLoss()\n",
    "optimizer = torch.optim.Adam(model.parameters(), lr=0.001)"
   ]
  },
  {
   "cell_type": "code",
   "execution_count": 36,
   "metadata": {},
   "outputs": [],
   "source": [
    "from tqdm import tqdm"
   ]
  },
  {
   "cell_type": "code",
   "execution_count": 473,
   "metadata": {},
   "outputs": [],
   "source": [
    "def train_epoch(model, dataloader, optimizer, criterion, device):\n",
    "    model.train()\n",
    "    total_loss = 0\n",
    "    all_preds = []\n",
    "    all_labels = []\n",
    "    \n",
    "    progress_bar = tqdm(dataloader, desc=\"Training\")\n",
    "    for batch in progress_bar:\n",
    "        inputs = batch[0].to(device)\n",
    "        labels = batch[1].to(device)\n",
    "        \n",
    "        optimizer.zero_grad()\n",
    "        \n",
    "        # Forward pass\n",
    "        outputs = model(inputs)\n",
    "        loss = criterion(outputs, labels)\n",
    "        \n",
    "        # Backward pass\n",
    "        loss.backward()\n",
    "        optimizer.step()\n",
    "        \n",
    "        # Сохраняем для метрик\n",
    "        total_loss += loss.item() * inputs.size(0)\n",
    "        preds = torch.sigmoid(outputs).cpu().detach().numpy()\n",
    "        all_preds.append(preds)\n",
    "        all_labels.append(labels.cpu().numpy())\n",
    "        \n",
    "        # Обновляем progress bar\n",
    "    progress_bar.set_postfix({'loss': total_loss / len(dataloader.dataset)})\n",
    "    all_preds = np.concatenate(all_preds)\n",
    "    all_labels = np.concatenate(all_labels)\n",
    "    f1 = f1_score(all_labels, all_preds > 0.5, average='macro', zero_division=0)\n",
    "\n",
    "    avg_loss = total_loss / len(dataloader.dataset)\n",
    "    return avg_loss, f1\n"
   ]
  },
  {
   "cell_type": "code",
   "execution_count": 474,
   "metadata": {},
   "outputs": [],
   "source": [
    "def validate(model, dataloader, criterion, device):\n",
    "    model.eval()\n",
    "    total_loss = 0\n",
    "    all_preds = []\n",
    "    all_labels = []\n",
    "    \n",
    "    with torch.no_grad():\n",
    "        for batch in tqdm(dataloader, desc=\"Validation\"):\n",
    "            inputs = batch[0].to(device)\n",
    "            labels = batch[1].to(device)\n",
    "            \n",
    "            outputs = model(inputs)\n",
    "            loss = criterion(outputs, labels)\n",
    "            \n",
    "            total_loss += loss.item() * inputs.size(0)\n",
    "            preds = torch.sigmoid(outputs).cpu().numpy()\n",
    "            all_preds.append(preds)\n",
    "            all_labels.append(labels.cpu().numpy())\n",
    "    \n",
    "    # Вычисляем F1-macro\n",
    "    all_preds = np.concatenate(all_preds)\n",
    "    all_labels = np.concatenate(all_labels)\n",
    "    f1 = f1_score(all_labels, all_preds > 0.5, average='macro', zero_division=0)\n",
    "    \n",
    "    avg_loss = total_loss / len(dataloader.dataset)\n",
    "    return avg_loss, f1"
   ]
  },
  {
   "cell_type": "code",
   "execution_count": 361,
   "metadata": {},
   "outputs": [],
   "source": [
    "def plot_metrics(train_losses, val_losses, f1_train, f1_val):\n",
    "    clear_output(wait=True)\n",
    "    fig, (ax1, ax2) = plt.subplots(1, 2, figsize=(15, 5))\n",
    "\n",
    "    # График лосса\n",
    "    ax1.plot(train_losses, label='Train Loss')\n",
    "    ax1.plot(val_losses, label='Validation Loss')\n",
    "    ax1.set_title('Loss over epochs')\n",
    "    ax1.set_xlabel('Epoch')\n",
    "    ax1.set_ylabel('Loss')\n",
    "    ax1.legend()\n",
    "\n",
    "    # График точности\n",
    "    ax2.plot(f1_train, label='Train f1')\n",
    "    ax2.plot(f1_val, label='Validation f1')\n",
    "    ax2.set_title('f1 over epochs')\n",
    "    ax2.set_xlabel('Epoch')\n",
    "    ax2.set_ylabel('f1')\n",
    "    ax2.legend()\n",
    "\n",
    "    plt.show()"
   ]
  },
  {
   "cell_type": "code",
   "execution_count": 454,
   "metadata": {},
   "outputs": [],
   "source": [
    "num_epochs = 20"
   ]
  },
  {
   "cell_type": "code",
   "execution_count": 475,
   "metadata": {},
   "outputs": [],
   "source": [
    "device = torch.device(\"cuda\" if torch.cuda.is_available() else \"cpu\")"
   ]
  },
  {
   "cell_type": "markdown",
   "metadata": {},
   "source": [
    "### Обучение TF-IDF"
   ]
  },
  {
   "cell_type": "code",
   "execution_count": 485,
   "metadata": {},
   "outputs": [
    {
     "data": {
      "image/png": "[encoded data removed]",
      "text/plain": [
       "<Figure size 1500x500 with 2 Axes>"
      ]
     },
     "metadata": {},
     "output_type": "display_data"
    }
   ],
   "source": [
    "\n",
    "\n",
    "train_loss_history = []\n",
    "val_loss_history = []\n",
    "train_f1_history = []\n",
    "val_f1_history = []\n",
    "\n",
    "\n",
    "for epoch in range(num_epochs):\n",
    "        print(f\"\\nEpoch {epoch + 1}/{num_epochs}\")\n",
    "\n",
    "        # Обучение\n",
    "        train_loss, train_f1 = train_epoch(model, train_loader, optimizer,criterion, device=device)\n",
    "        train_loss_history.append(train_loss)\n",
    "        train_f1_history.append(train_f1)\n",
    "\n",
    "        # Валидация\n",
    "        val_loss, val_f1 = validate(model, test_loader, criterion, device)\n",
    "        val_loss_history.append(val_loss)\n",
    "        val_f1_history.append(val_f1)\n",
    "\n",
    "        print(f\"Train Loss: {train_loss:.4f} | Acc: {train_f1:.4f}\")\n",
    "        print(f\"Val Loss: {val_loss:.4f} | Acc: {val_f1:.4f}\")\n",
    "\n",
    "        # Отрисовка графиков\n",
    "        plot_metrics(train_loss_history, val_loss_history, train_f1_history, val_f1_history)\n",
    "\n",
    "\n",
    "\n"
   ]
  },
  {
   "cell_type": "markdown",
   "metadata": {},
   "source": [
    "#### Видим сильное переобучение"
   ]
  },
  {
   "cell_type": "markdown",
   "metadata": {},
   "source": [
    "### Блок для Word2Vec"
   ]
  },
  {
   "cell_type": "code",
   "execution_count": 403,
   "metadata": {},
   "outputs": [],
   "source": [
    "from gensim.utils import simple_preprocess\n",
    "\n",
    "def clean_w2v(text):\n",
    "    # Сохранение пунктуации для контекста\n",
    "    text = re.sub(r'\\n', ' ', text)\n",
    "    # Токенизация с сохранением простых конструкций\n",
    "    return simple_preprocess(text, deacc=True, min_len=2)\n",
    "\n"
   ]
  },
  {
   "cell_type": "code",
   "execution_count": 404,
   "metadata": {},
   "outputs": [],
   "source": [
    "train_data['processed_w2w'] = train_data['text'].apply(lambda x: clean_w2v(x))\n"
   ]
  },
  {
   "cell_type": "code",
   "execution_count": 405,
   "metadata": {},
   "outputs": [],
   "source": [
    "test_data['processed_w2w'] = test_data['text'].apply(lambda x: clean_w2v(x))"
   ]
  },
  {
   "cell_type": "code",
   "execution_count": 419,
   "metadata": {},
   "outputs": [],
   "source": [
    "w2v_model = Word2Vec(\n",
    "    sentences=train_data['processed_w2w'],\n",
    "    vector_size=500,    # Размер эмбеддинга\n",
    "    window=10,          # Размер окна контекста\n",
    "    min_count=1,       # Минимальная частота слова\n",
    "    workers=4\n",
    ")"
   ]
  },
  {
   "cell_type": "code",
   "execution_count": 420,
   "metadata": {},
   "outputs": [],
   "source": [
    "X_train1,X_test1,y_train1,y_test1 = train_test_split(train_data['processed_w2w'],train_data['labels'])"
   ]
  },
  {
   "cell_type": "code",
   "execution_count": 421,
   "metadata": {},
   "outputs": [],
   "source": [
    "def text_to_vector(tokens, model):\n",
    "    vectors = []\n",
    "    for token in tokens:\n",
    "        if token in model.wv:\n",
    "            vectors.append(model.wv[token])\n",
    "    if len(vectors) == 0:\n",
    "        return np.zeros(model.vector_size)\n",
    "    return np.mean(vectors, axis=0)\n",
    "X_train1 = np.array([text_to_vector(tokens, w2v_model) for tokens in X_train1 ])\n",
    "X_test1 = np.array([text_to_vector(tokens, w2v_model) for tokens in X_test1 ])\n"
   ]
  },
  {
   "cell_type": "code",
   "execution_count": 422,
   "metadata": {},
   "outputs": [],
   "source": [
    "test_w2w = np.array([text_to_vector(tokens, w2v_model) for tokens in test_data['processed_w2w'] ])"
   ]
  },
  {
   "cell_type": "code",
   "execution_count": 423,
   "metadata": {},
   "outputs": [],
   "source": [
    "dataset_test = TestDataset(test_w2w)"
   ]
  },
  {
   "cell_type": "code",
   "execution_count": 424,
   "metadata": {},
   "outputs": [],
   "source": [
    "test_loader = DataLoader(dataset_test, batch_size = 32)"
   ]
  },
  {
   "cell_type": "code",
   "execution_count": 425,
   "metadata": {},
   "outputs": [],
   "source": [
    "dataset_w2w_train = TfidfDataset(X_train1,y_train1)\n",
    "dataset_w2w_val = TfidfDataset(X_test1,y_test1)"
   ]
  },
  {
   "cell_type": "code",
   "execution_count": 426,
   "metadata": {},
   "outputs": [],
   "source": [
    "train_loader_w2w = DataLoader(dataset_w2w_train, batch_size = 32)\n",
    "val_loader_w2w = DataLoader(dataset_w2w_val, batch_size = 32)"
   ]
  },
  {
   "cell_type": "code",
   "execution_count": 427,
   "metadata": {},
   "outputs": [],
   "source": [
    "class W2V_Net(nn.Module):\n",
    "    def __init__(self, input_size, hidden_size=128, output_size=20):\n",
    "        super().__init__()\n",
    "        self.fc1 = nn.Linear(input_size, hidden_size)\n",
    "        self.fc2 = nn.Linear(hidden_size, hidden_size//2)\n",
    "        self.fc3 = nn.Linear(hidden_size//2, 20)\n",
    "        self.dropout = nn.Dropout(0.3)\n",
    "        self.relu = nn.ReLU()\n",
    "        \n",
    "    def forward(self, x):\n",
    "        x = self.relu(self.fc1(x))\n",
    "        x = self.dropout(x)\n",
    "        x = self.relu(self.fc2(x))\n",
    "        x = self.fc3(x)  # Возвращаем логиты\n",
    "        return x"
   ]
  },
  {
   "cell_type": "code",
   "execution_count": 428,
   "metadata": {},
   "outputs": [],
   "source": [
    "model_w2w = W2V_Net(input_size = X_train1.shape[1]).to(device)"
   ]
  },
  {
   "cell_type": "code",
   "execution_count": 429,
   "metadata": {},
   "outputs": [],
   "source": [
    "criterion = torch.nn.BCEWithLogitsLoss()\n",
    "optimizer = torch.optim.Adam(model_w2w.parameters(), lr=0.001)"
   ]
  },
  {
   "cell_type": "code",
   "execution_count": 430,
   "metadata": {},
   "outputs": [],
   "source": [
    "num_epochs = 20"
   ]
  },
  {
   "cell_type": "markdown",
   "metadata": {},
   "source": [
    "### Обучение Word2vec"
   ]
  },
  {
   "cell_type": "code",
   "execution_count": 431,
   "metadata": {},
   "outputs": [
    {
     "data": {
      "image/png": "[encoded data removed]",
      "text/plain": [
       "<Figure size 1500x500 with 2 Axes>"
      ]
     },
     "metadata": {},
     "output_type": "display_data"
    }
   ],
   "source": [
    "train_loss_history = []\n",
    "val_loss_history = []\n",
    "train_f1_history = []\n",
    "val_f1_history = []\n",
    "\n",
    "\n",
    "for epoch in range(num_epochs):\n",
    "        print(f\"\\nEpoch {epoch + 1}/{num_epochs}\")\n",
    "\n",
    "        # Обучение\n",
    "        train_loss, train_f1 = train_epoch(model_w2w, train_loader_w2w, optimizer,criterion, device=device)\n",
    "        train_loss_history.append(train_loss)\n",
    "        train_f1_history.append(train_f1)\n",
    "\n",
    "        # Валидация\n",
    "        val_loss, val_f1 = validate(model_w2w, val_loader_w2w, criterion, device)\n",
    "        val_loss_history.append(val_loss)\n",
    "        val_f1_history.append(val_f1)\n",
    "\n",
    "        print(f\"Train Loss: {train_loss:.4f} | Acc: {train_f1:.4f}\")\n",
    "        print(f\"Val Loss: {val_loss:.4f} | Acc: {val_f1:.4f}\")\n",
    "\n",
    "        # Отрисовка графиков\n",
    "        plot_metrics(train_loss_history, val_loss_history, train_f1_history, val_f1_history)\n",
    "\n",
    "\n",
    "\n"
   ]
  },
  {
   "cell_type": "markdown",
   "metadata": {},
   "source": [
    "### Блок для CNN+embedding "
   ]
  },
  {
   "cell_type": "code",
   "execution_count": 209,
   "metadata": {},
   "outputs": [],
   "source": [
    "# Токенизация текстов\n",
    "tokenizer = Tokenizer(num_words=10000)\n",
    "tokenizer.fit_on_texts(train_data['processed_w2w'])\n",
    "sequences = tokenizer.texts_to_sequences(train_data['processed_w2w'])\n",
    "\n",
    "# Паддинг до одинаковой длины\n",
    "max_len = 100  # Максимальная длина текста\n",
    "X = pad_sequences(sequences, maxlen=max_len)\n",
    "\n",
    "# Р\n",
    "X_train, X_val, y_train, y_val = train_test_split(X, train_data['labels'], test_size=0.2)"
   ]
  },
  {
   "cell_type": "code",
   "execution_count": 260,
   "metadata": {},
   "outputs": [],
   "source": [
    "class Dataset(Dataset):\n",
    "    def __init__(self, X,y):\n",
    "        self.X = torch.LongTensor(X)\n",
    "        self.y = torch.stack(y.tolist())\n",
    "\n",
    "    def __len__(self):\n",
    "        return len(self.X)\n",
    "\n",
    "    def __getitem__(self, idx):\n",
    "        return self.X[idx], self.y[idx]\n",
    "\n"
   ]
  },
  {
   "cell_type": "code",
   "execution_count": 224,
   "metadata": {},
   "outputs": [],
   "source": [
    "train_dataset = Dataset(X_train,y_train)\n",
    "val_dataset =  Dataset(X_val, y_val)\n",
    "\n",
    "train_loader = DataLoader(train_dataset, batch_size=32, shuffle=True)\n",
    "val_loader = DataLoader(val_dataset, batch_size=32, shuffle=True)"
   ]
  },
  {
   "cell_type": "code",
   "execution_count": 231,
   "metadata": {},
   "outputs": [],
   "source": [
    "tokenizer.fit_on_texts(test_data['processed_w2w'])\n",
    "sequences = tokenizer.texts_to_sequences(test_data['processed_w2w'])\n",
    "\n",
    "# Паддинг до одинаковой длины\n",
    "max_len = 100  # Максимальная длина текста\n",
    "X_test = pad_sequences(sequences, maxlen=max_len)"
   ]
  },
  {
   "cell_type": "code",
   "execution_count": 237,
   "metadata": {},
   "outputs": [],
   "source": [
    "test_dataset = TestDataset(X_test)\n",
    "test_loader = DataLoader(test_dataset, batch_size = 32)"
   ]
  },
  {
   "cell_type": "code",
   "execution_count": 225,
   "metadata": {},
   "outputs": [],
   "source": [
    "class TextCNN(nn.Module):\n",
    "    def __init__(self, vocab_size, embed_dim, num_classes):\n",
    "        super().__init__()\n",
    "        self.embedding = nn.Embedding(vocab_size, embed_dim)\n",
    "        \n",
    "        self.conv1 = nn.Conv1d(embed_dim, 100, kernel_size=3, padding=1)\n",
    "        self.conv2 = nn.Conv1d(embed_dim, 100, kernel_size=4, padding=1)\n",
    "        self.conv3 = nn.Conv1d(embed_dim, 100, kernel_size=5, padding=1)\n",
    "        \n",
    "        self.dropout = nn.Dropout(0.5)\n",
    "        self.fc = nn.Linear(300, num_classes)  \n",
    "        \n",
    "    def forward(self, x):\n",
    "        x = self.embedding(x)  \n",
    "        x = x.permute(0, 2, 1)  \n",
    "        \n",
    "        x1 = F.relu(self.conv1(x))\n",
    "        x1 = F.max_pool1d(x1, x1.size(2)).squeeze(2)\n",
    "        \n",
    "        x2 = F.relu(self.conv2(x))\n",
    "        x2 = F.max_pool1d(x2, x2.size(2)).squeeze(2)\n",
    "        \n",
    "        x3 = F.relu(self.conv3(x))\n",
    "        x3 = F.max_pool1d(x3, x3.size(2)).squeeze(2)\n",
    "        \n",
    "        x = torch.cat((x1, x2, x3), dim=1)  # Объединяем выходы фильтров\n",
    "        x = self.dropout(x)\n",
    "        return self.fc(x)"
   ]
  },
  {
   "cell_type": "code",
   "execution_count": 226,
   "metadata": {},
   "outputs": [],
   "source": [
    "vocab_size = len(tokenizer.word_index) + 1\n",
    "model = TextCNN(\n",
    "    vocab_size=vocab_size,\n",
    "    embed_dim=200,\n",
    "    num_classes=20\n",
    ").to(device)\n",
    "\n",
    "criterion = nn.BCEWithLogitsLoss()\n",
    "optimizer = torch.optim.Adam(model.parameters(), lr=0.001)"
   ]
  },
  {
   "cell_type": "code",
   "execution_count": 433,
   "metadata": {},
   "outputs": [
    {
     "name": "stderr",
     "output_type": "stream",
     "text": [
      "[nltk_data] Downloading package stopwords to\n",
      "[nltk_data]     C:\\Users\\Пользователь\\AppData\\Roaming\\nltk_data...\n",
      "[nltk_data]   Package stopwords is already up-to-date!\n",
      "[nltk_data] Downloading package punkt to\n",
      "[nltk_data]     C:\\Users\\Пользователь\\AppData\\Roaming\\nltk_data...\n",
      "[nltk_data]   Package punkt is already up-to-date!\n"
     ]
    }
   ],
   "source": [
    "import re\n",
    "import nltk\n",
    "from nltk.corpus import stopwords\n",
    "from nltk.stem import SnowballStemmer\n",
    "from sklearn.utils import class_weight\n",
    "import numpy as np\n",
    "\n",
    "nltk.download('stopwords')\n",
    "nltk.download('punkt_tab')\n",
    "\n",
    "def advanced_text_preprocessor(text):\n",
    "    # Приведение к нижнему регистру\n",
    "    text = text.lower()\n",
    "    \n",
    "    # Удаление специальных символов и цифр\n",
    "    text = re.sub(r'[^a-zA-Zа-яА-ЯёЁ]', ' ', text)\n",
    "    \n",
    "    # Удаление лишних пробелов\n",
    "    text = re.sub(r'\\s+', ' ', text).strip()\n",
    "    \n",
    "    # Токенизация\n",
    "    tokens = nltk.word_tokenize(text)\n",
    "    \n",
    "    # Удаление стоп-слов\n",
    "    stop_words = set(stopwords.words('russian') + stopwords.words('english'))\n",
    "    tokens = [word for word in tokens if word not in stop_words]\n",
    "    \n",
    "    # Стемминг\n",
    "    stemmer = SnowballStemmer(\"russian\")\n",
    "    tokens = [stemmer.stem(word) for word in tokens]\n",
    "    \n",
    "    return ' '.join(tokens)\n",
    "\n",
    "# Применение к данным\n",
    "train_data['processed_text_4'] = train_data['text'].apply(advanced_text_preprocessor)\n",
    "test_data['processed_text_4'] = test_data['text'].apply(advanced_text_preprocessor)"
   ]
  },
  {
   "cell_type": "code",
   "execution_count": 435,
   "metadata": {},
   "outputs": [],
   "source": [
    "from tensorflow.keras.preprocessing.text import Tokenizer\n",
    "from tensorflow.keras.preprocessing.sequence import pad_sequences\n",
    "\n",
    "# Исправленная инициализация токенизатора\n",
    "tokenizer = Tokenizer(num_words=10000, oov_token=\"<OOV>\")\n",
    "tokenizer.fit_on_texts(train_data['processed_text_4'])\n",
    "\n",
    "# Преобразование текста в последовательности\n",
    "train_sequences = tokenizer.texts_to_sequences(train_data['processed_text_4'])\n",
    "test_sequences = tokenizer.texts_to_sequences(test_data['processed_text_4'])\n",
    "\n",
    "# Паддинг последовательностей\n",
    "max_len = 100\n",
    "X_train = pad_sequences(train_sequences, maxlen=max_len, padding='post', truncating='post')\n",
    "X_test = pad_sequences(test_sequences, maxlen=max_len, padding='post', truncating='post')"
   ]
  },
  {
   "cell_type": "code",
   "execution_count": 436,
   "metadata": {},
   "outputs": [],
   "source": [
    "import torch.nn as nn\n",
    "\n",
    "class MultiLabelTextCNN(nn.Module):\n",
    "    def __init__(self, vocab_size, embed_dim, num_classes):\n",
    "        super().__init__()\n",
    "        self.embedding = nn.Embedding(vocab_size, embed_dim)\n",
    "        \n",
    "        # Сверточные слои\n",
    "        self.convs = nn.ModuleList([\n",
    "            nn.Sequential(\n",
    "                nn.Conv1d(embed_dim, 128, kernel_size=k, padding=k//2),\n",
    "                nn.BatchNorm1d(128),\n",
    "                nn.ReLU(),\n",
    "                nn.AdaptiveMaxPool1d(1)\n",
    "            ) for k in [3, 4, 5]\n",
    "        ])\n",
    "        \n",
    "        # Дропаут\n",
    "        self.dropout = nn.Dropout(0.5)\n",
    "        \n",
    "        # Финальный классификатор\n",
    "        self.fc = nn.Linear(128 * len(self.convs), num_classes)\n",
    "        \n",
    "        # Инициализация весов\n",
    "        self._initialize_weights()\n",
    "    \n",
    "    def _initialize_weights(self):\n",
    "        for m in self.modules():\n",
    "            if isinstance(m, nn.Conv1d):\n",
    "                nn.init.kaiming_normal_(m.weight, mode='fan_out', nonlinearity='relu')\n",
    "                if m.bias is not None:\n",
    "                    nn.init.constant_(m.bias, 0)\n",
    "            elif isinstance(m, nn.Linear):\n",
    "                nn.init.xavier_normal_(m.weight)\n",
    "                nn.init.constant_(m.bias, 0)\n",
    "    \n",
    "    def forward(self, x):\n",
    "        x = self.embedding(x)  # [batch, seq_len, embed_dim]\n",
    "        x = x.permute(0, 2, 1)  # [batch, embed_dim, seq_len]\n",
    "        \n",
    "        # Применяем свертки и пулинг\n",
    "        features = [conv(x).squeeze(2) for conv in self.convs]\n",
    "        x = torch.cat(features, dim=1)\n",
    "        \n",
    "        x = self.dropout(x)\n",
    "        x = self.fc(x)\n",
    "        \n",
    "        return torch.sigmoid(x)  # Используем sigmoid для multi-label"
   ]
  },
  {
   "cell_type": "code",
   "execution_count": 229,
   "metadata": {},
   "outputs": [
    {
     "data": {
      "image/png": "[encoded data removed]",
      "text/plain": [
       "<Figure size 1500x500 with 2 Axes>"
      ]
     },
     "metadata": {},
     "output_type": "display_data"
    }
   ],
   "source": [
    "\n",
    "\n",
    "train_loss_history = []\n",
    "val_loss_history = []\n",
    "train_f1_history = []\n",
    "val_f1_history = []\n",
    "\n",
    "\n",
    "for epoch in range(num_epochs):\n",
    "        print(f\"\\nEpoch {epoch + 1}/{num_epochs}\")\n",
    "\n",
    "        # Обучение\n",
    "        train_loss, train_f1 = train_epoch(model, train_loader, optimizer,criterion, device=device)\n",
    "        train_loss_history.append(train_loss)\n",
    "        train_f1_history.append(train_f1)\n",
    "\n",
    "        # Валидация\n",
    "        val_loss, val_f1 = validate(model, val_loader, criterion, device)\n",
    "        val_loss_history.append(val_loss)\n",
    "        val_f1_history.append(val_f1)\n",
    "\n",
    "        print(f\"Train Loss: {train_loss:.4f} | Acc: {train_f1:.4f}\")\n",
    "        print(f\"Val Loss: {val_loss:.4f} | Acc: {val_f1:.4f}\")\n",
    "\n",
    "        # Отрисовка графиков\n",
    "        plot_metrics(train_loss_history, val_loss_history, train_f1_history, val_f1_history)\n",
    "\n",
    "\n",
    "\n"
   ]
  },
  {
   "cell_type": "markdown",
   "metadata": {},
   "source": [
    "#### RNN+embeding"
   ]
  },
  {
   "cell_type": "code",
   "execution_count": 242,
   "metadata": {},
   "outputs": [],
   "source": [
    "import torch\n",
    "import torch.nn as nn\n",
    "\n",
    "class MultiLabelRNN(nn.Module):\n",
    "    def __init__(self, vocab_size, embed_dim, hidden_dim, num_classes, num_layers=2, dropout=0.3):\n",
    "        super().__init__()\n",
    "        self.embedding = nn.Embedding(vocab_size, embed_dim, padding_idx=0)\n",
    "        \n",
    "        # Выбор типа RNN (LSTM или GRU)\n",
    "        self.rnn = nn.LSTM(\n",
    "            input_size=embed_dim,\n",
    "            hidden_size=hidden_dim,\n",
    "            num_layers=num_layers,\n",
    "            bidirectional=True,\n",
    "            dropout=dropout if num_layers > 1 else 0,\n",
    "            batch_first=True\n",
    "        )\n",
    "        \n",
    "        self.dropout = nn.Dropout(dropout)\n",
    "        self.fc = nn.Linear(hidden_dim * 2, num_classes)  # *2 для bidirectional\n",
    "        \n",
    "    def forward(self, x):\n",
    "        # x shape: (batch_size, seq_len)\n",
    "        x = self.embedding(x)  # (batch_size, seq_len, embed_dim)\n",
    "        \n",
    "        # RNN\n",
    "        rnn_out, _ = self.rnn(x)  # (batch_size, seq_len, hidden_dim*2)\n",
    "        \n",
    "        # Берем только последний hidden state\n",
    "        last_out = rnn_out[:, -1, :]  # (batch_size, hidden_dim*2)\n",
    "        \n",
    "        # Классификация\n",
    "        last_out = self.dropout(last_out)\n",
    "        return self.fc(last_out)  # (batch_size, num_classes)"
   ]
  },
  {
   "cell_type": "code",
   "execution_count": 246,
   "metadata": {},
   "outputs": [],
   "source": [
    "vocab_size = len(tokenizer.word_index) + 1\n",
    "model = MultiLabelRNN(vocab_size=vocab_size,\n",
    "    embed_dim=256,\n",
    "    hidden_dim=128,\n",
    "    num_classes=20).to(device)\n",
    "\n",
    "criterion = nn.BCEWithLogitsLoss()\n",
    "optimizer = torch.optim.Adam(model.parameters(), lr=0.001)\n",
    "num_epochs = 10\n"
   ]
  },
  {
   "cell_type": "code",
   "execution_count": 247,
   "metadata": {},
   "outputs": [
    {
     "data": {
      "image/png": "[encoded data removed]",
      "text/plain": [
       "<Figure size 1500x500 with 2 Axes>"
      ]
     },
     "metadata": {},
     "output_type": "display_data"
    }
   ],
   "source": [
    "\n",
    "\n",
    "train_loss_history = []\n",
    "val_loss_history = []\n",
    "train_f1_history = []\n",
    "val_f1_history = []\n",
    "\n",
    "\n",
    "for epoch in range(num_epochs):\n",
    "        print(f\"\\nEpoch {epoch + 1}/{num_epochs}\")\n",
    "\n",
    "        # Обучение\n",
    "        train_loss, train_f1 = train_epoch(model, train_loader, optimizer,criterion, device=device)\n",
    "        train_loss_history.append(train_loss)\n",
    "        train_f1_history.append(train_f1)\n",
    "\n",
    "        # Валидация\n",
    "        val_loss, val_f1 = validate(model, val_loader, criterion, device)\n",
    "        val_loss_history.append(val_loss)\n",
    "        val_f1_history.append(val_f1)\n",
    "\n",
    "        print(f\"Train Loss: {train_loss:.4f} | Acc: {train_f1:.4f}\")\n",
    "        print(f\"Val Loss: {val_loss:.4f} | Acc: {val_f1:.4f}\")\n",
    "\n",
    "        # Отрисовка графиков\n",
    "        plot_metrics(train_loss_history, val_loss_history, train_f1_history, val_f1_history)\n",
    "\n",
    "\n",
    "\n"
   ]
  },
  {
   "cell_type": "markdown",
   "metadata": {},
   "source": [
    "### Блок для Bert"
   ]
  },
  {
   "cell_type": "code",
   "execution_count": 486,
   "metadata": {},
   "outputs": [],
   "source": [
    "from transformers import AutoTokenizer\n",
    "import numpy as np\n",
    "\n",
    "# Инициализация токенизатора\n",
    "model_name = \"cointegrated/rubert-tiny2\"  # Легкая русскоязычная модель\n",
    "tokenizer = AutoTokenizer.from_pretrained(model_name)\n",
    "\n",
    "\n",
    "\n",
    "# Токенизация текстов\n",
    "def tokenize_texts(texts, max_length=128):\n",
    "    return tokenizer(\n",
    "        texts,\n",
    "        max_length=max_length,\n",
    "        padding='max_length',\n",
    "        truncation=True,\n",
    "        return_tensors='pt',\n",
    "        add_special_tokens=True\n",
    "    )\n",
    "\n",
    "X = tokenize_texts(list(train_data['processed_text']))"
   ]
  },
  {
   "cell_type": "code",
   "execution_count": 487,
   "metadata": {},
   "outputs": [],
   "source": [
    "X_test= tokenize_texts(list(test_data['processed_text']))"
   ]
  },
  {
   "cell_type": "code",
   "execution_count": 488,
   "metadata": {},
   "outputs": [],
   "source": [
    "from torch.utils.data import Dataset, DataLoader\n",
    "import torch\n",
    "\n",
    "class TokenizedDataset(Dataset):\n",
    "    def __init__(self, tokenized_data, labels):\n",
    "        \"\"\"\n",
    "        Принимает уже токенизированные данные в формате:\n",
    "        {\n",
    "            'input_ids': tensor(...),\n",
    "            'token_type_ids': tensor(...),\n",
    "            'attention_mask': tensor(...),\n",
    "            'labels': tensor(...)\n",
    "        }\n",
    "        \"\"\"\n",
    "        self.input_ids = tokenized_data['input_ids']\n",
    "        self.token_type_ids = tokenized_data['token_type_ids']\n",
    "        self.attention_mask = tokenized_data['attention_mask']\n",
    "        self.labels = labels\n",
    "        \n",
    "    def __len__(self):\n",
    "        return len(self.input_ids)\n",
    "    \n",
    "    def __getitem__(self, idx):\n",
    "        return {\n",
    "            'input_ids': self.input_ids[idx],\n",
    "            'token_type_ids': self.token_type_ids[idx],\n",
    "            'attention_mask': self.attention_mask[idx],\n",
    "            'labels': self.labels[idx]\n",
    "        }\n",
    "\n",
    "# Пример использования:\n",
    "# Предположим, ваш токенизированный датасет называется tokenized_data\n",
    "dataset = TokenizedDataset(X,train_data['labels'])\n",
    "train_dataset, val_dataset = random_split(dataset, [0.8,0.2])"
   ]
  },
  {
   "cell_type": "code",
   "execution_count": 489,
   "metadata": {},
   "outputs": [],
   "source": [
    "class TokenizedTestDataset(Dataset):\n",
    "    def __init__(self, tokenized_data):\n",
    "        \"\"\"\n",
    "        Принимает уже токенизированные данные в формате:\n",
    "        {\n",
    "            'input_ids': tensor(...),\n",
    "            'token_type_ids': tensor(...),\n",
    "            'attention_mask': tensor(...),\n",
    "            'labels': tensor(...)\n",
    "        }\n",
    "        \"\"\"\n",
    "        self.input_ids = tokenized_data['input_ids']\n",
    "        self.token_type_ids = tokenized_data['token_type_ids']\n",
    "        self.attention_mask = tokenized_data['attention_mask']\n",
    "        \n",
    "    def __len__(self):\n",
    "        return len(self.input_ids)\n",
    "    \n",
    "    def __getitem__(self, idx):\n",
    "        return {\n",
    "            'input_ids': self.input_ids[idx],\n",
    "            'token_type_ids': self.token_type_ids[idx],\n",
    "            'attention_mask': self.attention_mask[idx],\n",
    "\n",
    "        }"
   ]
  },
  {
   "cell_type": "code",
   "execution_count": 490,
   "metadata": {},
   "outputs": [],
   "source": [
    "test_dataset = TokenizedTestDataset(X_test)"
   ]
  },
  {
   "cell_type": "code",
   "execution_count": 491,
   "metadata": {},
   "outputs": [],
   "source": [
    "test_loader = DataLoader(test_dataset, batch_size = 32)"
   ]
  },
  {
   "cell_type": "code",
   "execution_count": null,
   "metadata": {},
   "outputs": [],
   "source": []
  },
  {
   "cell_type": "code",
   "execution_count": 492,
   "metadata": {},
   "outputs": [],
   "source": [
    "train_loader = DataLoader(train_dataset, batch_size=32, shuffle=True)\n",
    "val_loader = DataLoader(val_dataset, batch_size=32)"
   ]
  },
  {
   "cell_type": "code",
   "execution_count": 493,
   "metadata": {},
   "outputs": [],
   "source": [
    "from transformers import AutoModel\n",
    "import torch.nn as nn\n",
    "\n",
    "class BertForMultiLabel(nn.Module):\n",
    "    def __init__(self, model_name, num_classes):\n",
    "        super().__init__()\n",
    "        self.bert = AutoModel.from_pretrained(model_name)\n",
    "        self.dropout = nn.Dropout(0.1)\n",
    "        self.classifier = nn.Linear(self.bert.config.hidden_size, num_classes)\n",
    "        \n",
    "    def forward(self, input_ids, attention_mask):\n",
    "        outputs = self.bert(\n",
    "            input_ids=input_ids,\n",
    "            attention_mask=attention_mask\n",
    "        )\n",
    "        pooled_output = outputs.last_hidden_state[:, 0, :]  # Берем [CLS] токен\n",
    "        pooled_output = self.dropout(pooled_output)\n",
    "        return self.classifier(pooled_output)\n",
    "\n",
    "model = BertForMultiLabel(model_name, 20)"
   ]
  },
  {
   "cell_type": "code",
   "execution_count": 494,
   "metadata": {},
   "outputs": [],
   "source": [
    "optimizer = AdamW(model.parameters(), lr=2e-5)\n",
    "criterion = nn.BCEWithLogitsLoss()"
   ]
  },
  {
   "cell_type": "code",
   "execution_count": 495,
   "metadata": {},
   "outputs": [
    {
     "data": {
      "text/plain": [
       "BertForMultiLabel(\n",
       "  (bert): BertModel(\n",
       "    (embeddings): BertEmbeddings(\n",
       "      (word_embeddings): Embedding(83828, 312, padding_idx=0)\n",
       "      (position_embeddings): Embedding(2048, 312)\n",
       "      (token_type_embeddings): Embedding(2, 312)\n",
       "      (LayerNorm): LayerNorm((312,), eps=1e-12, elementwise_affine=True)\n",
       "      (dropout): Dropout(p=0.1, inplace=False)\n",
       "    )\n",
       "    (encoder): BertEncoder(\n",
       "      (layer): ModuleList(\n",
       "        (0-2): 3 x BertLayer(\n",
       "          (attention): BertAttention(\n",
       "            (self): BertSdpaSelfAttention(\n",
       "              (query): Linear(in_features=312, out_features=312, bias=True)\n",
       "              (key): Linear(in_features=312, out_features=312, bias=True)\n",
       "              (value): Linear(in_features=312, out_features=312, bias=True)\n",
       "              (dropout): Dropout(p=0.1, inplace=False)\n",
       "            )\n",
       "            (output): BertSelfOutput(\n",
       "              (dense): Linear(in_features=312, out_features=312, bias=True)\n",
       "              (LayerNorm): LayerNorm((312,), eps=1e-12, elementwise_affine=True)\n",
       "              (dropout): Dropout(p=0.1, inplace=False)\n",
       "            )\n",
       "          )\n",
       "          (intermediate): BertIntermediate(\n",
       "            (dense): Linear(in_features=312, out_features=600, bias=True)\n",
       "            (intermediate_act_fn): GELUActivation()\n",
       "          )\n",
       "          (output): BertOutput(\n",
       "            (dense): Linear(in_features=600, out_features=312, bias=True)\n",
       "            (LayerNorm): LayerNorm((312,), eps=1e-12, elementwise_affine=True)\n",
       "            (dropout): Dropout(p=0.1, inplace=False)\n",
       "          )\n",
       "        )\n",
       "      )\n",
       "    )\n",
       "    (pooler): BertPooler(\n",
       "      (dense): Linear(in_features=312, out_features=312, bias=True)\n",
       "      (activation): Tanh()\n",
       "    )\n",
       "  )\n",
       "  (dropout): Dropout(p=0.1, inplace=False)\n",
       "  (classifier): Linear(in_features=312, out_features=20, bias=True)\n",
       ")"
      ]
     },
     "execution_count": 495,
     "metadata": {},
     "output_type": "execute_result"
    }
   ],
   "source": [
    "device = torch.device('cuda' if torch.cuda.is_available() else 'cpu')\n",
    "model.to(device)"
   ]
  },
  {
   "cell_type": "code",
   "execution_count": null,
   "metadata": {},
   "outputs": [
    {
     "data": {
      "image/png": "[encoded data removed]",
      "text/plain": [
       "<Figure size 1500x500 with 2 Axes>"
      ]
     },
     "metadata": {},
     "output_type": "display_data"
    },
    {
     "name": "stderr",
     "output_type": "stream",
     "text": [
      "Training:  62%|████████████████████████████████████████████████████████████████                                        | 456/740 [4:17:40<05:50,  1.23s/it]"
     ]
    }
   ],
   "source": [
    "train_loss_history = []\n",
    "val_loss_history = []\n",
    "train_f1_history = []\n",
    "val_f1_history = []\n",
    "\n",
    "for epoch in range(10):\n",
    "    model.train()\n",
    "    all_preds = []\n",
    "    all_labels = []\n",
    "    total_loss = 0\n",
    "    progress_bar = tqdm(train_loader, desc=\"Training\")\n",
    "    for batch in progress_bar:\n",
    "        optimizer.zero_grad()\n",
    "        input_ids = batch['input_ids'].to(device)\n",
    "        attention_mask = batch['attention_mask'].to(device)\n",
    "        labels = batch['labels'].to(device)\n",
    "        \n",
    "        outputs = model(input_ids, attention_mask)\n",
    "        loss = criterion(outputs, labels)\n",
    "        loss.backward()\n",
    "        optimizer.step()\n",
    "        total_loss += loss.item()*32\n",
    "        preds = torch.sigmoid(outputs).cpu().detach().numpy()\n",
    "        all_preds.append(preds)\n",
    "        all_labels.append(labels.cpu().numpy())\n",
    "        \n",
    "        # Обновляем progress bar\n",
    "    progress_bar.set_postfix({'loss': total_loss / len(train_loader.dataset)})\n",
    "    all_preds = np.concatenate(all_preds)\n",
    "    all_labels = np.concatenate(all_labels)\n",
    "    f1 = f1_score(all_labels, all_preds > 0.5, average='macro', zero_division=0)\n",
    "\n",
    "    avg_loss = total_loss / len(train_loader.dataset)\n",
    "    train_loss_history.append(avg_loss)\n",
    "    train_f1_history.append(f1)\n",
    "    \n",
    "    # Валидация\n",
    "    model.eval()\n",
    "    total_loss = 0\n",
    "    val_preds = []\n",
    "    val_true = []\n",
    "    with torch.no_grad():\n",
    "        progress_bar = tqdm(val_loader, desc=\"Validating\")\n",
    "        for batch in progress_bar:\n",
    "            input_ids = batch['input_ids'].to(device)\n",
    "            attention_mask = batch['attention_mask'].to(device)\n",
    "            labels = batch['labels'].cpu()\n",
    "            outputs = model(input_ids, attention_mask)\n",
    "            loss = criterion(outputs,labels)\n",
    "            total_loss+=loss.item()*32\n",
    "            preds = (torch.sigmoid(outputs) > 0.5).cpu()\n",
    "            val_preds.append(preds)\n",
    "            val_true.append(labels)\n",
    "    \n",
    "    val_f1 = f1_score(\n",
    "        torch.cat(val_true).numpy(),\n",
    "        torch.cat(val_preds).numpy(),\n",
    "        average='macro'\n",
    "    )\n",
    "    avg_loss = total_loss / len(val_loader.dataset)\n",
    "    val_f1_history.append(val_f1)\n",
    "    val_loss_history.append(avg_loss)\n",
    "    plot_metrics(train_loss_history, val_loss_history, train_f1_history, val_f1_history)"
   ]
  },
  {
   "cell_type": "code",
   "execution_count": null,
   "metadata": {},
   "outputs": [],
   "source": []
  },
  {
   "cell_type": "code",
   "execution_count": null,
   "metadata": {},
   "outputs": [],
   "source": []
  },
  {
   "cell_type": "code",
   "execution_count": 397,
   "metadata": {},
   "outputs": [
    {
     "name": "stderr",
     "output_type": "stream",
     "text": [
      "Validation: 100%|███████████████████████████████████████████████████████████████████████████████████████████████████████| 231/231 [00:00<00:00, 684.87it/s]\n"
     ]
    }
   ],
   "source": [
    "model.eval()\n",
    "all_preds = []\n",
    "with torch.no_grad():\n",
    "    for batch in tqdm(test_loader1, desc=\"Validation\"):\n",
    "        inputs = batch\n",
    "       \n",
    "        # labels = batch['labels'].cpu()\n",
    "        outputs = model(inputs)\n",
    "        preds = (torch.sigmoid(outputs) > 0.5).cpu().numpy()\n",
    "        all_preds.append(preds)\n",
    "preds = np.concatenate(all_preds)"
   ]
  },
  {
   "cell_type": "code",
   "execution_count": 398,
   "metadata": {},
   "outputs": [],
   "source": [
    "hui = [' '.join([str(int(i)) for i in row]) for row in preds]"
   ]
  },
  {
   "cell_type": "code",
   "execution_count": 399,
   "metadata": {},
   "outputs": [],
   "source": [
    "\n",
    "first_pred = pd.DataFrame({'id': range(29568,29568+len(preds)),\n",
    "              'labels': hui})"
   ]
  },
  {
   "cell_type": "code",
   "execution_count": 400,
   "metadata": {},
   "outputs": [],
   "source": [
    "first_pred.to_csv('fisting25.csv')"
   ]
  },
  {
   "cell_type": "code",
   "execution_count": null,
   "metadata": {},
   "outputs": [],
   "source": []
  },
  {
   "cell_type": "code",
   "execution_count": null,
   "metadata": {},
   "outputs": [],
   "source": []
  },
  {
   "cell_type": "code",
   "execution_count": null,
   "metadata": {},
   "outputs": [],
   "source": []
  }
 ],
 "metadata": {
  "colab": {
   "provenance": []
  },
  "kernelspec": {
   "display_name": "Python 3 (ipykernel)",
   "language": "python",
   "name": "python3"
  },
  "language_info": {
   "codemirror_mode": {
    "name": "ipython",
    "version": 3
   },
   "file_extension": ".py",
   "mimetype": "text/x-python",
   "name": "python",
   "nbconvert_exporter": "python",
   "pygments_lexer": "ipython3",
   "version": "3.11.7"
  }
 },
 "nbformat": 4,
 "nbformat_minor": 4
}
