{
  "cells": [
    {
      "cell_type": "code",
      "source": [
        "!python --version"
      ],
      "metadata": {
        "id": "yoEN9Cvr5C8b",
        "outputId": "0a47837b-5bbb-457d-fc88-fef95e3adf47",
        "colab": {
          "base_uri": "https://localhost:8080/"
        }
      },
      "execution_count": null,
      "outputs": [
        {
          "output_type": "stream",
          "name": "stdout",
          "text": [
            "Python 3.11.11\n"
          ]
        }
      ]
    },
    {
      "cell_type": "code",
      "execution_count": 1,
      "metadata": {
        "id": "3MeKai5Xj6eX"
      },
      "outputs": [],
      "source": [
        "import numpy as np\n"
      ]
    },
    {
      "cell_type": "markdown",
      "metadata": {
        "id": "wwlFrG-Tj6eY"
      },
      "source": [
        "**Module** is an abstract class which defines fundamental methods necessary for a training a neural network. You do not need to change anything here, just read the comments."
      ]
    },
    {
      "cell_type": "code",
      "execution_count": 1,
      "metadata": {
        "id": "W8BLmtZ3j6eZ"
      },
      "outputs": [],
      "source": [
        "class Module(object):\n",
        "    \"\"\"\n",
        "    Basically, you can think of a module as of a something (black box)\n",
        "    which can process `input` data and produce `ouput` data.\n",
        "    This is like applying a function which is called `forward`:\n",
        "\n",
        "        output = module.forward(input)\n",
        "\n",
        "    The module should be able to perform a backward pass: to differentiate the `forward` function.\n",
        "    More, it should be able to differentiate it if is a part of chain (chain rule).\n",
        "    The latter implies there is a gradient from previous step of a chain rule.\n",
        "\n",
        "        gradInput = module.backward(input, gradOutput)\n",
        "    \"\"\"\n",
        "    def __init__ (self):\n",
        "        self.output = None\n",
        "        self.gradInput = None\n",
        "        self.training = True\n",
        "\n",
        "    def forward(self, input):\n",
        "        \"\"\"\n",
        "        Takes an input object, and computes the corresponding output of the module.\n",
        "        \"\"\"\n",
        "        return self.updateOutput(input)\n",
        "\n",
        "    def backward(self,input, gradOutput):\n",
        "        \"\"\"\n",
        "        Performs a backpropagation step through the module, with respect to the given input.\n",
        "\n",
        "        This includes\n",
        "         - computing a gradient w.r.t. `input` (is needed for further backprop),\n",
        "         - computing a gradient w.r.t. parameters (to update parameters while optimizing).\n",
        "        \"\"\"\n",
        "        self.updateGradInput(input, gradOutput)\n",
        "        self.accGradParameters(input, gradOutput)\n",
        "        return self.gradInput\n",
        "\n",
        "\n",
        "    def updateOutput(self, input):\n",
        "        \"\"\"\n",
        "        Computes the output using the current parameter set of the class and input.\n",
        "        This function returns the result which is stored in the `output` field.\n",
        "\n",
        "        Make sure to both store the data in `output` field and return it.\n",
        "        \"\"\"\n",
        "\n",
        "        # The easiest case:\n",
        "\n",
        "        # self.output = input\n",
        "        # return self.output\n",
        "\n",
        "        pass\n",
        "\n",
        "    def updateGradInput(self, input, gradOutput):\n",
        "        \"\"\"\n",
        "        Computing the gradient of the module with respect to its own input.\n",
        "        This is returned in `gradInput`. Also, the `gradInput` state variable is updated accordingly.\n",
        "\n",
        "        The shape of `gradInput` is always the same as the shape of `input`.\n",
        "\n",
        "        Make sure to both store the gradients in `gradInput` field and return it.\n",
        "        \"\"\"\n",
        "\n",
        "        # The easiest case:\n",
        "\n",
        "        # self.gradInput = gradOutput\n",
        "        # return self.gradInput\n",
        "\n",
        "        pass\n",
        "\n",
        "    def accGradParameters(self, input, gradOutput):\n",
        "        \"\"\"\n",
        "        Computing the gradient of the module with respect to its own parameters.\n",
        "        No need to override if module has no parameters (e.g. ReLU).\n",
        "        \"\"\"\n",
        "        pass\n",
        "\n",
        "    def zeroGradParameters(self):\n",
        "        \"\"\"\n",
        "        Zeroes `gradParams` variable if the module has params.\n",
        "        \"\"\"\n",
        "        pass\n",
        "\n",
        "    def getParameters(self):\n",
        "        \"\"\"\n",
        "        Returns a list with its parameters.\n",
        "        If the module does not have parameters return empty list.\n",
        "        \"\"\"\n",
        "        return []\n",
        "\n",
        "    def getGradParameters(self):\n",
        "        \"\"\"\n",
        "        Returns a list with gradients with respect to its parameters.\n",
        "        If the module does not have parameters return empty list.\n",
        "        \"\"\"\n",
        "        return []\n",
        "\n",
        "    def train(self):\n",
        "        \"\"\"\n",
        "        Sets training mode for the module.\n",
        "        Training and testing behaviour differs for Dropout, BatchNorm.\n",
        "        \"\"\"\n",
        "        self.training = True\n",
        "\n",
        "    def evaluate(self):\n",
        "        \"\"\"\n",
        "        Sets evaluation mode for the module.\n",
        "        Training and testing behaviour differs for Dropout, BatchNorm.\n",
        "        \"\"\"\n",
        "        self.training = False\n",
        "\n",
        "    def __repr__(self):\n",
        "        \"\"\"\n",
        "        Pretty printing. Should be overrided in every module if you want\n",
        "        to have readable description.\n",
        "        \"\"\"\n",
        "        return \"Module\""
      ]
    },
    {
      "cell_type": "markdown",
      "metadata": {
        "id": "mKRkIjT8j6eZ"
      },
      "source": [
        "# Sequential container"
      ]
    },
    {
      "cell_type": "markdown",
      "metadata": {
        "id": "Cb98PPpJj6ea"
      },
      "source": [
        "**Define** a forward and backward pass procedures."
      ]
    },
    {
      "cell_type": "code",
      "source": [
        "class Sequential(Module):\n",
        "    \"\"\"\n",
        "    This class implements a container, which processes `input` data sequentially.\n",
        "\n",
        "    `input` is processed by each module (layer) in self.modules consecutively.\n",
        "    The resulting array is called `output`.\n",
        "    \"\"\"\n",
        "\n",
        "    def __init__(self):\n",
        "        super(Sequential, self).__init__()\n",
        "        self.modules = []\n",
        "        self.prev_outputs = []\n",
        "\n",
        "    def add(self, module):\n",
        "        \"\"\"\n",
        "        Adds a module to the container.\n",
        "        \"\"\"\n",
        "        self.modules.append(module)\n",
        "\n",
        "    def updateOutput(self, input):\n",
        "        \"\"\"\n",
        "        Basic workflow of FORWARD PASS:\n",
        "\n",
        "            y_0    = module[0].forward(input)\n",
        "            y_1    = module[1].forward(y_0)\n",
        "            ...\n",
        "            output = module[n-1].forward(y_{n-2})\n",
        "\n",
        "        Just write a little loop.\"\"\"\n",
        "\n",
        "        self.prev_outputs = []\n",
        "        self.output = input\n",
        "\n",
        "        for module in self.modules:\n",
        "            self.prev_outputs.append(self.output)\n",
        "            self.output = module.forward(self.output)\n",
        "        self.output = self.output\n",
        "        return self.output\n",
        "\n",
        "    def backward(self, input, gradOutput):\n",
        "        \"\"\"\n",
        "        Workflow of BACKWARD PASS:\n",
        "\n",
        "            g_{n-1} = module[n-1].backward(y_{n-2}, gradOutput)\n",
        "            g_{n-2} = module[n-2].backward(y_{n-3}, g_{n-1})\n",
        "            ...\n",
        "            g_1 = module[1].backward(y_0, g_2)\n",
        "            gradInput = module[0].backward(input, g_1)\n",
        "\n",
        "        !!!\n",
        "\n",
        "        To each module you need to provide the input, module saw while forward pass,\n",
        "        it is used while computing gradients.\n",
        "        Make sure that the input for `i-th` layer is the output of `module[i]` (just the same input as in forward pass)\n",
        "        and NOT `input` to this Sequential module.\n",
        "\n",
        "        !!!\n",
        "        \"\"\"\n",
        "\n",
        "        next_grad_output = gradOutput\n",
        "        for i in range(len(self.modules) - 1, -1, -1):\n",
        "            module = self.modules[i]\n",
        "            prev_output = self.prev_outputs[i]\n",
        "            next_grad_output = module.backward(prev_output, next_grad_output)\n",
        "        self.gradInput = next_grad_output\n",
        "        return self.gradInput\n",
        "\n",
        "\n",
        "\n",
        "    def zeroGradParameters(self):\n",
        "        for module in self.modules:\n",
        "            module.zeroGradParameters()\n",
        "\n",
        "    def getParameters(self):\n",
        "        \"\"\"\n",
        "        Should gather all parameters in a list.\n",
        "        \"\"\"\n",
        "        return [x.getParameters() for x in self.modules]\n",
        "\n",
        "\n",
        "    def getGradParameters(self):\n",
        "        \"\"\"\n",
        "        Should gather all gradients w.r.t parameters in a list.\n",
        "        \"\"\"\n",
        "        return [x.getGradParameters() for x in self.modules]\n",
        "\n",
        "    def __repr__(self):\n",
        "        string = \"\".join([str(x) + '\\n' for x in self.modules])\n",
        "        return string\n",
        "\n",
        "    def __getitem__(self, x):\n",
        "        return self.modules.__getitem__(x)\n",
        "\n",
        "    def train(self):\n",
        "        \"\"\"\n",
        "        Propagates training parameter through all modules\n",
        "        \"\"\"\n",
        "        self.training = True\n",
        "        for module in self.modules:\n",
        "            module.train()\n",
        "\n",
        "    def evaluate(self):\n",
        "        \"\"\"\n",
        "        Propagates training parameter through all modules\n",
        "        \"\"\"\n",
        "        self.training = False\n",
        "        for module in self.modules:\n",
        "            module.evaluate()"
      ],
      "metadata": {
        "id": "GfjdEUWDenwa"
      },
      "execution_count": 3,
      "outputs": []
    },
    {
      "cell_type": "markdown",
      "metadata": {
        "id": "zfXdYfO4j6ea"
      },
      "source": [
        "# Layers"
      ]
    },
    {
      "cell_type": "markdown",
      "metadata": {
        "id": "ZuwvBkuNj6ea"
      },
      "source": [
        "## 1 (0.2). Linear transform layer\n",
        "Also known as dense layer, fully-connected layer, FC-layer, InnerProductLayer (in caffe), affine transform\n",
        "- input:   **`batch_size x n_feats1`**\n",
        "- output: **`batch_size x n_feats2`**"
      ]
    },
    {
      "cell_type": "code",
      "execution_count": 205,
      "metadata": {
        "id": "D0uoyqkpj6ea"
      },
      "outputs": [],
      "source": [
        "class Linear(Module):\n",
        "    \"\"\"\n",
        "    A module which applies a linear transformation\n",
        "    A common name is fully-connected layer, InnerProductLayer in caffe.\n",
        "\n",
        "    The module should work with 2D input of shape (n_samples, n_feature).\n",
        "    \"\"\"\n",
        "    def __init__(self, n_in, n_out):\n",
        "        super(Linear, self).__init__()\n",
        "\n",
        "        # This is a nice initialization\n",
        "        stdv = 1./np.sqrt(n_in)\n",
        "        self.W = np.random.uniform(-stdv, stdv, size = (n_out, n_in))\n",
        "        self.b = np.random.uniform(-stdv, stdv, size = n_out)\n",
        "\n",
        "        self.gradW = np.zeros_like(self.W)\n",
        "        self.gradb = np.zeros_like(self.b)\n",
        "\n",
        "    def updateOutput(self, input):\n",
        "\n",
        "        self.output = np.dot(input,self.W.T)+ self.b #y = wx+b\n",
        "        return self.output\n",
        "\n",
        "    def updateGradInput(self, input, gradOutput):\n",
        "        self.gradInput =np.dot(gradOutput,self.W) #dL/dx = dL/dy*dy/dx\n",
        "        return self.gradInput\n",
        "\n",
        "    def accGradParameters(self, input, gradOutput):\n",
        "        self.gradW=np.dot(gradOutput.T,input) #dL/dw = dL/dy* dy/dw - x\n",
        "        self.gradb = np.sum(gradOutput, axis=0)  #dL/db = dL/dy* dy/db - 1\n",
        "        return self.gradW, self.gradb\n",
        "\n",
        "    def zeroGradParameters(self):\n",
        "        self.gradW.fill(0)\n",
        "        self.gradb.fill(0)\n",
        "\n",
        "    def getParameters(self):\n",
        "        return [self.W, self.b]\n",
        "\n",
        "    def getGradParameters(self):\n",
        "        return [self.gradW, self.gradb]\n",
        "\n",
        "    def __repr__(self):\n",
        "        s = self.W.shape\n",
        "        q = 'Linear %d -> %d' %(s[1],s[0])\n",
        "        return q"
      ]
    },
    {
      "cell_type": "markdown",
      "metadata": {
        "id": "tNOnHXZJj6eb"
      },
      "source": [
        "## 2. (0.2) SoftMax\n",
        "- input:   **`batch_size x n_feats`**\n",
        "- output: **`batch_size x n_feats`**\n",
        "\n",
        "$\\text{softmax}(x)_i = \\frac{\\exp x_i} {\\sum_j \\exp x_j}$\n",
        "\n",
        "Recall that $\\text{softmax}(x) == \\text{softmax}(x - \\text{const})$. It makes possible to avoid computing exp() from large argument."
      ]
    },
    {
      "cell_type": "code",
      "execution_count": null,
      "metadata": {
        "collapsed": true,
        "id": "VIValI0hj6eb"
      },
      "outputs": [],
      "source": [
        "class SoftMax(Module):\n",
        "    def __init__(self):\n",
        "         super(SoftMax, self).__init__()\n",
        "\n",
        "    def updateOutput(self, input):\n",
        "      input = np.array(input,copy=True)\n",
        "      self.output = np.subtract(input, input.max(axis=1, keepdims=True))\n",
        "      self.output = np.exp(self.output) / np.sum(np.exp(self.output), axis=1, keepdims=True)\n",
        "      return self.output\n",
        "\n",
        "\n",
        "    def updateGradInput(self, input, gradOutput):\n",
        "        input = np.array(input,copy=True)\n",
        "        gradOutput =  np.array(gradOutput,copy=True)\n",
        "        batch_size = input.shape[0]\n",
        "\n",
        "        self.gradInput = np.zeros_like(input)\n",
        "        for i in range(batch_size):\n",
        "            x = self.output[i].reshape(-1, 1)\n",
        "            grad = gradOutput[i]\n",
        "\n",
        "            jacobian = np.diagflat(x) - np.dot(x, x.T)\n",
        "\n",
        "            self.gradInput[i] = np.dot(jacobian, grad)\n",
        "        return self.gradInput\n",
        "\n",
        "    def __repr__(self):\n",
        "      return \"SoftMax\""
      ]
    },
    {
      "cell_type": "markdown",
      "metadata": {
        "id": "Cy3DJjynj6eb"
      },
      "source": [
        "## 3. (0.2) LogSoftMax\n",
        "- input:   **`batch_size x n_feats`**\n",
        "- output: **`batch_size x n_feats`**\n",
        "\n",
        "$\\text{logsoftmax}(x)_i = \\log\\text{softmax}(x)_i = x_i - \\log {\\sum_j \\exp x_j}$\n",
        "\n",
        "The main goal of this layer is to be used in computation of log-likelihood loss."
      ]
    },
    {
      "cell_type": "code",
      "execution_count": null,
      "metadata": {
        "collapsed": true,
        "id": "Xo7DRdAJj6eb"
      },
      "outputs": [],
      "source": [
        "class LogSoftMax(Module):\n",
        "    def __init__(self):\n",
        "         super(LogSoftMax, self).__init__()\n",
        "\n",
        "    def updateOutput(self, input):\n",
        "        # start with normalization for numerical stability\n",
        "        self.output = np.subtract(input, input.max(axis=1, keepdims=True))\n",
        "        self.output = self.output - np.log(np.sum(np.exp(self.output), axis=1,keepdims=True))\n",
        "        return self.output\n",
        "\n",
        "    def updateGradInput(self, input, gradOutput):\n",
        "        softmax_output = np.exp(self.output)/np.sum(np.exp(self.output), axis=1,keepdims=True)\n",
        "        self.gradInput = gradOutput - softmax_output * np.sum(gradOutput, axis=1, keepdims=True)\n",
        "        return self.gradInput\n",
        "\n",
        "    def __repr__(self):\n",
        "        return \"LogSoftMax\""
      ]
    },
    {
      "cell_type": "markdown",
      "metadata": {
        "id": "QP5QdmmPj6eb"
      },
      "source": [
        "## 4. (0.3) Batch normalization\n",
        "One of the most significant recent ideas that impacted NNs a lot is [**Batch normalization**](http://arxiv.org/abs/1502.03167). The idea is simple, yet effective: the features should be whitened ($mean = 0$, $std = 1$) all the way through NN. This improves the convergence for deep models letting it train them for days but not weeks. **You are** to implement the first part of the layer: features normalization. The second part (`ChannelwiseScaling` layer) is implemented below.\n",
        "\n",
        "- input:   **`batch_size x n_feats`**\n",
        "- output: **`batch_size x n_feats`**\n",
        "\n",
        "The layer should work as follows. While training (`self.training == True`) it transforms input as $$y = \\frac{x - \\mu}  {\\sqrt{\\sigma + \\epsilon}}$$\n",
        "where $\\mu$ and $\\sigma$ - mean and variance of feature values in **batch** and $\\epsilon$ is just a small number for numericall stability. Also during training, layer should maintain exponential moving average values for mean and variance:\n",
        "```\n",
        "    self.moving_mean = self.moving_mean * alpha + batch_mean * (1 - alpha)\n",
        "    self.moving_variance = self.moving_variance * alpha + batch_variance * (1 - alpha)\n",
        "```\n",
        "During testing (`self.training == False`) the layer normalizes input using moving_mean and moving_variance.\n",
        "\n",
        "Note that decomposition of batch normalization on normalization itself and channelwise scaling here is just a common **implementation** choice. In general \"batch normalization\" always assumes normalization + scaling."
      ]
    },
    {
      "cell_type": "code",
      "execution_count": null,
      "metadata": {
        "collapsed": true,
        "id": "fGTTDqVgj6eb"
      },
      "outputs": [],
      "source": [
        "class BatchNormalization(Module):\n",
        "    EPS = 1e-3\n",
        "    def __init__(self, alpha = 0.):\n",
        "        super(BatchNormalization, self).__init__()\n",
        "        self.alpha = alpha\n",
        "        self.moving_mean = None\n",
        "        self.moving_variance = None\n",
        "\n",
        "    def updateOutput(self, input):\n",
        "       if self.moving_mean is None:\n",
        "        self.moving_mean = np.zeros(input.shape[1])\n",
        "        self.moving_variance = np.ones(input.shape[1])\n",
        "\n",
        "       if self.training == True:\n",
        "        mean = np.mean(input,axis=0) #среднее и дисперсия по батчу\n",
        "        variance = np.var(input,axis = 0)\n",
        "        self.moving_mean = self.moving_mean * self.alpha + mean * (1 - self.alpha)\n",
        "        self.moving_variance = self.moving_variance * self.alpha + variance * (1 - self.alpha)\n",
        "\n",
        "       else:\n",
        "        mean = self.moving_mean\n",
        "        variance = self.moving_variance\n",
        "\n",
        "       self.output = (input - mean) / np.sqrt(variance + self.EPS)\n",
        "       return self.output\n",
        "\n",
        "    def updateGradInput(self, input, gradOutput):\n",
        "      if self.training:\n",
        "        mean = np.mean(input, axis=0)\n",
        "        variance = np.var(input, axis=0)\n",
        "        std_inv = 1.0 / np.sqrt(variance + self.EPS)\n",
        "\n",
        "        grad_normalized = gradOutput * std_inv # = dL/d(xnorm) * d(xnorm)/dx\n",
        "\n",
        "        # Градиент для дисперсии\n",
        "        grad_variance = np.sum(\n",
        "            gradOutput * (input - mean) * -0.5 * (variance + self.EPS) ** (-1.5),\n",
        "            axis=0\n",
        "        ) # dL/d(var) = dL/d(xnorm)*d(xnorm)/d(var)\n",
        "\n",
        "        # Градиент для среднего\n",
        "        grad_mean = np.sum(gradOutput * -std_inv, axis=0) + grad_variance * np.mean(\n",
        "            -2.0 * (input - mean), axis=0\n",
        "        ) #dL/d(mean) = dL/d(xnorm) * d(xnorm)/d(mean) + dL/d(var) * d(var)/d(mean)\n",
        "\n",
        "        # Итоговый градиент по входным данным - dL/dx = dL/dxnorm * dxnorm/dx + dL/d(var)*d(var)/dx + dL/d(mean)*d(mean)/dx\n",
        "        self.gradInput = (\n",
        "            grad_normalized  # Вклад от нормализованных данных\n",
        "            + grad_variance * 2.0 * (input - mean) / input.shape[0]  # Вклад от дисперсии\n",
        "            + grad_mean / input.shape[0]  # Вклад от среднего\n",
        "        )\n",
        "      else:\n",
        "          self.gradInput = gradOutput / np.sqrt(self.moving_variance + self.EPS)\n",
        "\n",
        "      return self.gradInput\n",
        "\n",
        "    def __repr__(self):\n",
        "        return \"BatchNormalization\""
      ]
    },
    {
      "cell_type": "code",
      "execution_count": null,
      "metadata": {
        "collapsed": true,
        "id": "8XUS3Lt-j6eb"
      },
      "outputs": [],
      "source": [
        "class ChannelwiseScaling(Module):\n",
        "    \"\"\"\n",
        "       Implements linear transform of input y = \\gamma * x + \\beta\n",
        "       where \\gamma, \\beta - learnable vectors of length x.shape[-1]\n",
        "    \"\"\"\n",
        "    def __init__(self, n_out):\n",
        "        super(ChannelwiseScaling, self).__init__()\n",
        "\n",
        "        stdv = 1./np.sqrt(n_out)\n",
        "        self.gamma = np.random.uniform(-stdv, stdv, size=n_out)\n",
        "        self.beta = np.random.uniform(-stdv, stdv, size=n_out)\n",
        "\n",
        "        self.gradGamma = np.zeros_like(self.gamma)\n",
        "        self.gradBeta = np.zeros_like(self.beta)\n",
        "\n",
        "    def updateOutput(self, input):\n",
        "        self.output = input * self.gamma + self.beta\n",
        "        return self.output\n",
        "\n",
        "    def updateGradInput(self, input, gradOutput):\n",
        "        self.gradInput = gradOutput * self.gamma\n",
        "        return self.gradInput\n",
        "\n",
        "    def accGradParameters(self, input, gradOutput):\n",
        "        self.gradBeta = np.sum(gradOutput, axis=0)\n",
        "        self.gradGamma = np.sum(gradOutput*input, axis=0)\n",
        "\n",
        "    def zeroGradParameters(self):\n",
        "        self.gradGamma.fill(0)\n",
        "        self.gradBeta.fill(0)\n",
        "\n",
        "    def getParameters(self):\n",
        "        return [self.gamma, self.beta]\n",
        "\n",
        "    def getGradParameters(self):\n",
        "        return [self.gradGamma, self.gradBeta]\n",
        "\n",
        "    def __repr__(self):\n",
        "        return \"ChannelwiseScaling\""
      ]
    },
    {
      "cell_type": "markdown",
      "metadata": {
        "id": "vA5zjM3jj6eb"
      },
      "source": [
        "Practical notes. If BatchNormalization is placed after a linear transformation layer (including dense layer, convolutions, channelwise scaling) that implements function like `y = weight * x + bias`, than bias adding become useless and could be omitted since its effect will be discarded while batch mean subtraction. If BatchNormalization (followed by `ChannelwiseScaling`) is placed before a layer that propagates scale (including ReLU, LeakyReLU) followed by any linear transformation layer than parameter `gamma` in `ChannelwiseScaling` could be freezed since it could be absorbed into the linear transformation layer."
      ]
    },
    {
      "cell_type": "markdown",
      "metadata": {
        "id": "Gackeo1cj6eb"
      },
      "source": [
        "## 5. (0.3) Dropout\n",
        "Implement [**dropout**](https://www.cs.toronto.edu/~hinton/absps/JMLRdropout.pdf). The idea and implementation is really simple: just multimply the input by $Bernoulli(p)$ mask. Here $p$ is probability of an element to be zeroed.\n",
        "\n",
        "This has proven to be an effective technique for regularization and preventing the co-adaptation of neurons.\n",
        "\n",
        "While training (`self.training == True`) it should sample a mask on each iteration (for every batch), zero out elements and multiply elements by $1 / (1 - p)$. The latter is needed for keeping mean values of features close to mean values which will be in test mode. When testing this module should implement identity transform i.e. `self.output = input`.\n",
        "\n",
        "- input:   **`batch_size x n_feats`**\n",
        "- output: **`batch_size x n_feats`**"
      ]
    },
    {
      "cell_type": "code",
      "execution_count": null,
      "metadata": {
        "id": "NmLQV3jXj6eb"
      },
      "outputs": [],
      "source": [
        "class Dropout(Module):\n",
        "    def __init__(self, p=0.5):\n",
        "        super(Dropout, self).__init__()\n",
        "\n",
        "        self.p = p\n",
        "        self.mask = None\n",
        "\n",
        "    def updateOutput(self, input):\n",
        "      if self.training:\n",
        "        self.mask = np.random.binomial(1, 1 - self.p, size=input.shape)\n",
        "        self.mask=self.mask/(1-self.p)\n",
        "        self.output = self.mask*input\n",
        "      else:\n",
        "        self.output=input\n",
        "\n",
        "      return  self.output\n",
        "\n",
        "    def updateGradInput(self, input, gradOutput):\n",
        "      if self.training:\n",
        "        self.gradInput = gradOutput * self.mask\n",
        "      else:\n",
        "        self.gradInput = gradOutput\n",
        "\n",
        "      return self.gradInput\n",
        "\n",
        "\n",
        "    def __repr__(self):\n",
        "        return \"Dropout\""
      ]
    },
    {
      "cell_type": "markdown",
      "source": [
        "#6. (2.0) Conv2d\n",
        "Implement [**Conv2d**](https://pytorch.org/docs/stable/generated/torch.nn.Conv2d.html). Use only this list of parameters: (in_channels, out_channels, kernel_size, stride, padding, bias, padding_mode) and fix dilation=1 and groups=1."
      ],
      "metadata": {
        "id": "-WHGIqJFlhz2"
      }
    },
    {
      "cell_type": "markdown",
      "source": [
        "#7. (0.5) Implement [**MaxPool2d**](https://pytorch.org/docs/stable/generated/torch.nn.MaxPool2d.html) and [**AvgPool2d**](https://pytorch.org/docs/stable/generated/torch.nn.AvgPool2d.html). Use only parameters like kernel_size, stride, padding (negative infinity for maxpool and zero for avgpool) and other parameters fixed as in framework."
      ],
      "metadata": {
        "id": "updUVZE9qixP"
      }
    },
    {
      "cell_type": "code",
      "source": [
        "import numpy as np\n",
        "\n",
        "class MaxPool2d(Module):\n",
        "    def __init__(self, kernel_size, stride, padding):\n",
        "        super(MaxPool2d, self).__init__()\n",
        "        self.kernel_size = kernel_size\n",
        "        self.stride = stride\n",
        "        self.padding = padding\n",
        "\n",
        "    def updateOutput(self, input):\n",
        "        batch_size, in_channels, in_height, in_width = input.shape\n",
        "        kernel_height, kernel_width = self.kernel_size, self.kernel_size if isinstance(self.kernel_size, int) else self.kernel_size\n",
        "        stride_height, stride_width = self.stride, self.stride if isinstance(self.stride, int) else self.stride\n",
        "        padding_height, padding_width = self.padding, self.padding if isinstance(self.padding, int) else self.padding\n",
        "\n",
        "\n",
        "        out_height = (in_height - kernel_height + 2 * padding_height) // stride_height + 1\n",
        "        out_width = (in_width - kernel_width + 2 * padding_width) // stride_width + 1\n",
        "\n",
        "        padded_input = np.pad(input, ((0, 0), (0, 0), (padding_height, padding_height), (padding_width, padding_width)), mode='constant', constant_values=-np.inf)\n",
        "\n",
        "        self.output = np.zeros((batch_size, in_channels, out_height, out_width))\n",
        "\n",
        "        for b in range(batch_size):\n",
        "            for c in range(in_channels):\n",
        "                for i in range(out_height):\n",
        "                    for j in range(out_width):\n",
        "                        h_start = i * stride_height\n",
        "                        h_end = h_start + kernel_height\n",
        "                        w_start = j * stride_width\n",
        "                        w_end = w_start + kernel_width\n",
        "\n",
        "                        self.output[b, c, i, j] = np.max(padded_input[b, c, h_start:h_end, w_start:w_end])\n",
        "\n",
        "        return self.output\n",
        "\n",
        "    def updateGradInput(self, input, gradOutput):\n",
        "        batch_size, in_channels, in_height, in_width = input.shape\n",
        "        kernel_height, kernel_width = self.kernel_size, self.kernel_size if isinstance(self.kernel_size, int) else self.kernel_size\n",
        "        stride_height, stride_width = self.stride, self.stride if isinstance(self.stride, int) else self.stride\n",
        "        padding_height, padding_width = self.padding, self.padding if isinstance(self.padding, int) else self.padding\n",
        "\n",
        "\n",
        "        out_height = (in_height - kernel_height + 2 * padding_height) // stride_height + 1\n",
        "        out_width = (in_width - kernel_width + 2 * padding_width) // stride_width + 1\n",
        "\n",
        "        padded_input = np.pad(input, ((0, 0), (0, 0), (padding_height, padding_height), (padding_width, padding_width)), mode='constant', constant_values=-np.inf)\n",
        "\n",
        "        self.gradInput = np.zeros_like(input)\n",
        "\n",
        "        for b in range(batch_size):\n",
        "            for c in range(in_channels):\n",
        "                for i in range(out_height):\n",
        "                    for j in range(out_width):\n",
        "                        h_start = i * stride_height\n",
        "                        h_end = h_start + kernel_height\n",
        "                        w_start = j * stride_width\n",
        "                        w_end = w_start + kernel_width\n",
        "\n",
        "                        window = padded_input[b, c, h_start:h_end, w_start:w_end]\n",
        "                        max_val = np.max(window)\n",
        "                        mask = (window == max_val)\n",
        "                        self.gradInput[b, c, h_start:h_end, w_start:w_end] += mask * gradOutput[b, c, i, j]\n",
        "\n",
        "        return self.gradInput\n",
        "\n",
        "    def __repr__(self):\n",
        "        return \"MaxPool2d\"\n",
        "\n",
        "\n",
        "\n",
        "class AvgPool2d(Module):\n",
        "    def __init__(self, kernel_size, stride=None, padding=0):\n",
        "        super(AvgPool2d, self).__init__()\n",
        "        self.kernel_size = kernel_size if isinstance(kernel_size, tuple) else (kernel_size, kernel_size)\n",
        "        self.stride = stride if stride is not None else kernel_size\n",
        "        self.stride = self.stride if isinstance(self.stride, tuple) else (self.stride, self.stride)\n",
        "        self.padding = padding if isinstance(padding, tuple) else (padding, padding)\n",
        "\n",
        "    def updateOutput(self, input):\n",
        "        batch_size, in_channels, in_height, in_width = input.shape\n",
        "        kernel_height, kernel_width = self.kernel_size\n",
        "        stride_height, stride_width = self.stride\n",
        "        padding_height, padding_width = self.padding\n",
        "\n",
        "        out_height = (in_height + 2 * padding_height - kernel_height) // stride_height + 1\n",
        "        out_width = (in_width + 2 * padding_width - kernel_width) // stride_width + 1\n",
        "\n",
        "\n",
        "        padded_input = np.pad(\n",
        "            input,\n",
        "            ((0, 0), (0, 0), (padding_height, padding_height), (padding_width, padding_width)),\n",
        "            mode='constant',\n",
        "            constant_values=0\n",
        "        )\n",
        "\n",
        "\n",
        "        self.output = np.zeros((batch_size, in_channels, out_height, out_width))\n",
        "\n",
        "\n",
        "        for b in range(batch_size):\n",
        "            for c in range(in_channels):\n",
        "                for i in range(out_height):\n",
        "                    for j in range(out_width):\n",
        "                        h_start = i * stride_height\n",
        "                        h_end = h_start + kernel_height\n",
        "                        w_start = j * stride_width\n",
        "                        w_end = w_start + kernel_width\n",
        "\n",
        "\n",
        "                        window = padded_input[b, c, h_start:h_end, w_start:w_end]\n",
        "\n",
        "                        self.output[b, c, i, j] = np.mean(window)\n",
        "\n",
        "        return self.output\n",
        "\n",
        "    def updateGradInput(self, input, gradOutput):\n",
        "        batch_size, in_channels, in_height, in_width = input.shape\n",
        "        kernel_height, kernel_width = self.kernel_size\n",
        "        stride_height, stride_width = self.stride\n",
        "        padding_height, padding_width = self.padding\n",
        "\n",
        "\n",
        "        out_height = (in_height + 2 * padding_height - kernel_height) // stride_height + 1\n",
        "        out_width = (in_width + 2 * padding_width - kernel_width) // stride_width + 1\n",
        "\n",
        "\n",
        "        padded_input = np.pad(\n",
        "            input,\n",
        "            ((0, 0), (0, 0), (padding_height, padding_height), (padding_width, padding_width)),\n",
        "            mode='constant',\n",
        "            constant_values=0\n",
        "        )\n",
        "\n",
        "        self.gradInput = np.zeros_like(padded_input)\n",
        "\n",
        "        for b in range(batch_size):\n",
        "            for c in range(in_channels):\n",
        "                for i in range(out_height):\n",
        "                    for j in range(out_width):\n",
        "                        h_start = i * stride_height\n",
        "                        h_end = h_start + kernel_height\n",
        "                        w_start = j * stride_width\n",
        "                        w_end = w_start + kernel_width\n",
        "\n",
        "\n",
        "                        grad_value = gradOutput[b, c, i, j] / (kernel_height * kernel_width)\n",
        "                        self.gradInput[b, c, h_start:h_end, w_start:w_end] += grad_value\n",
        "\n",
        "\n",
        "        if padding_height > 0 or padding_width > 0:\n",
        "            self.gradInput = self.gradInput[\n",
        "                :, :,\n",
        "                padding_height:padding_height + in_height,\n",
        "                padding_width:padding_width + in_width\n",
        "            ]\n",
        "\n",
        "        return self.gradInput\n",
        "\n",
        "    def __repr__(self):\n",
        "        return \"AvgPool2d\""
      ],
      "metadata": {
        "id": "OstqXOTjxz31"
      },
      "execution_count": null,
      "outputs": []
    },
    {
      "cell_type": "markdown",
      "source": [
        "#8. (0.3) Implement **GlobalMaxPool2d** and **GlobalAvgPool2d**. They do not have testing and parameters are up to you but they must aggregate information within channels. Write test functions for these layers on your own."
      ],
      "metadata": {
        "id": "KTN5R3CwrukV"
      }
    },
    {
      "cell_type": "code",
      "source": [
        "class GlobalMaxPool2d(Module):\n",
        "    def __init__(self):\n",
        "        super(GlobalMaxPool2d, self).__init__()\n",
        "        self.cache = None\n",
        "    def updateOutput(self, x):\n",
        "      self.cache = x\n",
        "      out =  np.max(x.reshape(x.shape[0], x.shape[1], -1), axis=2)\n",
        "\n",
        "      return out\n",
        "    def updateGradInput(self, dout):\n",
        "        x = self.cache\n",
        "        batch_size, channels, height, width = x.shape\n",
        "\n",
        "        x_reshaped = x.reshape(batch_size, channels, -1)\n",
        "        max_vals = np.max(x_reshaped, axis=2, keepdims=True)\n",
        "\n",
        "        mask = (x_reshaped == max_vals)\n",
        "\n",
        "        dout_reshaped = dout[..., np.newaxis] * mask\n",
        "        dx = dout_reshaped.reshape(batch_size, channels, height, width)\n",
        "\n",
        "        return dx\n"
      ],
      "metadata": {
        "id": "z2whb-XmLWne"
      },
      "execution_count": null,
      "outputs": []
    },
    {
      "cell_type": "code",
      "source": [
        "class GlobalAvgPool2d(Module):\n",
        "\n",
        "    def __init__(self):\n",
        "        self.cache = None\n",
        "\n",
        "    def updateOutput(self, x):\n",
        "\n",
        "        self.input_shape = x.shape\n",
        "        self.cache = x\n",
        "\n",
        "\n",
        "        return np.mean(x, axis=(2,3))\n",
        "\n",
        "    def updateGradInput(self, dout):\n",
        "\n",
        "        batch_size, channels, height, width = self.input_shape\n",
        "\n",
        "        scale = 1 / (height * width)\n",
        "        dx = np.ones(self.input_shape) * dout[:, :, np.newaxis, np.newaxis] * scale\n",
        "\n",
        "        return dx"
      ],
      "metadata": {
        "id": "ry66IkEwLWfL"
      },
      "execution_count": null,
      "outputs": []
    },
    {
      "cell_type": "markdown",
      "source": [
        "#9. (0.2) Implement [**Flatten**](https://pytorch.org/docs/stable/generated/torch.flatten.html)"
      ],
      "metadata": {
        "id": "cYeBQDBhtViy"
      }
    },
    {
      "cell_type": "code",
      "source": [
        "class Flatten(Module):\n",
        "\n",
        "    def __init__(self, start_dim=0, end_dim=-1):\n",
        "        super(Flatten, self).__init__()\n",
        "        self.start_dim = start_dim\n",
        "        self.end_dim = end_dim\n",
        "\n",
        "    def updateOutput(self, input):\n",
        "\n",
        "        self.input_shape = input.shape\n",
        "\n",
        "        if self.end_dim == -1:\n",
        "            self.end_dim = len(input.shape) - 1\n",
        "\n",
        "        flattened_size = 1\n",
        "        for i in range(self.start_dim, self.end_dim + 1):\n",
        "            flattened_size *= input.shape[i]\n",
        "\n",
        "        new_shape = list(input.shape[:self.start_dim]) + [flattened_size] + list(input.shape[self.end_dim + 1:])\n",
        "\n",
        "        self.output = input.reshape(*new_shape)\n",
        "        return self.output\n",
        "\n",
        "    def updateGradInput(self, input, gradOutput):\n",
        "        self.gradInput = gradOutput.reshape(self.input_shape)\n",
        "        return self.gradInput\n",
        "\n",
        "    def __repr__(self):\n",
        "        return \"Flatten\"\n"
      ],
      "metadata": {
        "id": "SimPEMOFqhTQ"
      },
      "execution_count": null,
      "outputs": []
    },
    {
      "cell_type": "markdown",
      "metadata": {
        "id": "o36vPHSSj6eb"
      },
      "source": [
        "# Activation functions"
      ]
    },
    {
      "cell_type": "markdown",
      "metadata": {
        "id": "l_pryRQIj6ec"
      },
      "source": [
        "Here's the complete example for the **Rectified Linear Unit** non-linearity (aka **ReLU**):"
      ]
    },
    {
      "cell_type": "code",
      "execution_count": 9,
      "metadata": {
        "collapsed": true,
        "id": "sgm8bXjKj6ec"
      },
      "outputs": [],
      "source": [
        "class ReLU(Module):\n",
        "    def __init__(self):\n",
        "         super(ReLU, self).__init__()\n",
        "\n",
        "    def updateOutput(self, input):\n",
        "        self.output = np.maximum(input, 0)\n",
        "        return self.output\n",
        "\n",
        "    def updateGradInput(self, input, gradOutput):\n",
        "        self.gradInput = np.multiply(gradOutput , input > 0)\n",
        "        return self.gradInput\n",
        "\n",
        "    def __repr__(self):\n",
        "        return \"ReLU\""
      ]
    },
    {
      "cell_type": "markdown",
      "metadata": {
        "id": "yB0UHGagj6ec"
      },
      "source": [
        "## 10. (0.1) Leaky ReLU\n",
        "Implement [**Leaky Rectified Linear Unit**](http://en.wikipedia.org/wiki%2FRectifier_%28neural_networks%29%23Leaky_ReLUs). Expriment with slope."
      ]
    },
    {
      "cell_type": "code",
      "execution_count": null,
      "metadata": {
        "id": "agwfkwO0j6ec"
      },
      "outputs": [],
      "source": [
        "class LeakyReLU(Module):\n",
        "    def __init__(self, slope = 0.03):\n",
        "        super(LeakyReLU, self).__init__()\n",
        "\n",
        "        self.slope = slope\n",
        "\n",
        "    def updateOutput(self, input):\n",
        "        self.output=np.where(input > 0, input, self.slope* input)\n",
        "        return  self.output\n",
        "\n",
        "    def updateGradInput(self, input, gradOutput):\n",
        "        self.gradInput=np.multiply(gradOutput, np.where(input > 0, 1, self.slope))\n",
        "        return self.gradInput\n",
        "\n",
        "    def __repr__(self):\n",
        "        return \"LeakyReLU\""
      ]
    },
    {
      "cell_type": "markdown",
      "metadata": {
        "id": "t-STyecvj6ec"
      },
      "source": [
        "## 11. (0.1) ELU\n",
        "Implement [**Exponential Linear Units**](http://arxiv.org/abs/1511.07289) activations."
      ]
    },
    {
      "cell_type": "code",
      "execution_count": null,
      "metadata": {
        "collapsed": true,
        "id": "jJSzEu1mj6ec"
      },
      "outputs": [],
      "source": [
        "class ELU(Module):\n",
        "    def __init__(self, alpha = 1.0):\n",
        "        super(ELU, self).__init__()\n",
        "\n",
        "        self.alpha = alpha\n",
        "\n",
        "    def updateOutput(self, input):\n",
        "       self.output=np.where(input > 0, input, self.alpha* (np.exp(input)-1))\n",
        "       return  self.output\n",
        "\n",
        "    def updateGradInput(self, input, gradOutput):\n",
        "        self.gradInput=np.multiply(gradOutput, np.where(input > 0, 1, self.alpha*np.exp(input)))\n",
        "        return self.gradInput\n",
        "\n",
        "    def __repr__(self):\n",
        "        return \"ELU\""
      ]
    },
    {
      "cell_type": "markdown",
      "metadata": {
        "id": "Gn3C7KTqj6ec"
      },
      "source": [
        "## 12. (0.1) SoftPlus\n",
        "Implement [**SoftPlus**](https://en.wikipedia.org/wiki%2FRectifier_%28neural_networks%29) activations. Look, how they look a lot like ReLU."
      ]
    },
    {
      "cell_type": "code",
      "execution_count": null,
      "metadata": {
        "collapsed": true,
        "id": "xcDPMssrj6ec"
      },
      "outputs": [],
      "source": [
        "class SoftPlus(Module):\n",
        "    def __init__(self, beta=1.0,threshold=20.0):\n",
        "        super(SoftPlus, self).__init__()\n",
        "        self.beta=beta\n",
        "        self.threshold=threshold\n",
        "\n",
        "    def updateOutput(self, input):\n",
        "        self.output=np.where(input > self.threshold/self.beta, input, 1/(self.beta)* np.log(1+np.exp(self.beta*input)))\n",
        "        return  self.output\n",
        "\n",
        "    def updateGradInput(self, input, gradOutput):\n",
        "        self.gradInput=np.multiply(gradOutput, np.where(input > self.threshold/self.beta, 1, np.exp(self.beta*input)/(np.exp(self.beta*input)+1)))\n",
        "        return self.gradInput\n",
        "\n",
        "    def __repr__(self):\n",
        "        return \"SoftPlus\""
      ]
    },
    {
      "cell_type": "markdown",
      "source": [
        "#13. (0.2) Gelu\n",
        "Implement [**Gelu**](https://pytorch.org/docs/stable/generated/torch.nn.GELU.html) activations."
      ],
      "metadata": {
        "id": "kw3PeZjOuo0e"
      }
    },
    {
      "cell_type": "code",
      "source": [
        "import torch\n",
        "import torch.nn as nn\n",
        "import math\n",
        "\n",
        "class Gelu(Module):\n",
        "    def __init__(self):\n",
        "        super(Gelu, self).__init__()\n",
        "\n",
        "    def updateOutput(self, input):\n",
        "        input = torch.tensor(input,requires_grad=True)\n",
        "\n",
        "        self.output =  0.5 * input * (1 + torch.erf(input / math.sqrt(2)))\n",
        "        return self.output.detach().numpy()\n",
        "\n",
        "    def updateGradInput(self, input, gradOutput):\n",
        "        input = torch.tensor(input,requires_grad=True)\n",
        "        gradOutput = torch.tensor(gradOutput,requires_grad=True)\n",
        "\n",
        "        cdf = 0.5 * (1 + torch.erf(input / math.sqrt(2)))\n",
        "        pdf = torch.exp(-0.5 * input**2) / math.sqrt(2 * math.pi)\n",
        "        self.gradInput = gradOutput * (cdf + input * pdf)\n",
        "        return self.gradInput.detach().numpy()\n",
        "\n",
        "    def __repr__(self):\n",
        "        return \"Gelu\""
      ],
      "metadata": {
        "id": "Tfzpmg-a4j3o"
      },
      "execution_count": null,
      "outputs": []
    },
    {
      "cell_type": "markdown",
      "metadata": {
        "id": "55p7UvPAj6ec"
      },
      "source": [
        "# Criterions"
      ]
    },
    {
      "cell_type": "code",
      "execution_count": 10,
      "metadata": {
        "id": "XGu45A8qj6ec"
      },
      "outputs": [],
      "source": [
        "class Criterion(object):\n",
        "    def __init__ (self):\n",
        "        self.output = None\n",
        "        self.gradInput = None\n",
        "\n",
        "    def forward(self, input, target):\n",
        "        \"\"\"\n",
        "            Given an input and a target, compute the loss function\n",
        "            associated to the criterion and return the result.\n",
        "\n",
        "            For consistency this function should not be overrided,\n",
        "            all the code goes in `updateOutput`.\n",
        "        \"\"\"\n",
        "        return self.updateOutput(input, target)\n",
        "\n",
        "    def backward(self, input, target):\n",
        "        \"\"\"\n",
        "            Given an input and a target, compute the gradients of the loss function\n",
        "            associated to the criterion and return the result.\n",
        "\n",
        "            For consistency this function should not be overrided,\n",
        "            all the code goes in `updateGradInput`.\n",
        "        \"\"\"\n",
        "        return self.updateGradInput(input, target)\n",
        "\n",
        "    def updateOutput(self, input, target):\n",
        "        \"\"\"\n",
        "        Function to override.\n",
        "        \"\"\"\n",
        "        return self.output\n",
        "\n",
        "    def updateGradInput(self, input, target):\n",
        "        \"\"\"\n",
        "        Function to override.\n",
        "        \"\"\"\n",
        "        return self.gradInput\n",
        "\n",
        "    def __repr__(self):\n",
        "        \"\"\"\n",
        "        Pretty printing. Should be overrided in every module if you want\n",
        "        to have readable description.\n",
        "        \"\"\"\n",
        "        return \"Criterion\""
      ]
    },
    {
      "cell_type": "markdown",
      "metadata": {
        "id": "WuU26xkpj6ec"
      },
      "source": [
        "The **MSECriterion**, which is basic L2 norm usually used for regression, is implemented here for you.\n",
        "- input:   **`batch_size x n_feats`**\n",
        "- target: **`batch_size x n_feats`**\n",
        "- output: **scalar**"
      ]
    },
    {
      "cell_type": "code",
      "execution_count": 11,
      "metadata": {
        "id": "-i3VNuHhj6ec"
      },
      "outputs": [],
      "source": [
        "class MSECriterion(Criterion):\n",
        "    def __init__(self):\n",
        "        super(MSECriterion, self).__init__()\n",
        "\n",
        "    def updateOutput(self, input, target):\n",
        "        self.output = np.sum(np.power(input - target,2),axis = 0) / input.shape[0]\n",
        "        return self.output\n",
        "\n",
        "    def updateGradInput(self, input, target):\n",
        "        self.gradInput  = (input - target) * 2 / input.shape[0]\n",
        "        return self.gradInput\n",
        "\n",
        "    def __repr__(self):\n",
        "        return \"MSECriterion\""
      ]
    },
    {
      "cell_type": "markdown",
      "metadata": {
        "id": "x8LKLWNVj6ec"
      },
      "source": [
        "## 14. (0.2) Negative LogLikelihood criterion (numerically unstable)\n",
        "You task is to implement the **ClassNLLCriterion**. It should implement [multiclass log loss](http://scikit-learn.org/stable/modules/model_evaluation.html#log-loss). Nevertheless there is a sum over `y` (target) in that formula,\n",
        "remember that targets are one-hot encoded. This fact simplifies the computations a lot. Note, that criterions are the only places, where you divide by batch size. Also there is a small hack with adding small number to probabilities to avoid computing log(0).\n",
        "- input:   **`batch_size x n_feats`** - probabilities\n",
        "- target: **`batch_size x n_feats`** - one-hot representation of ground truth\n",
        "- output: **scalar**\n",
        "\n"
      ]
    },
    {
      "cell_type": "code",
      "execution_count": null,
      "metadata": {
        "id": "die7KvW6j6ec"
      },
      "outputs": [],
      "source": [
        "class ClassNLLCriterionUnstable(Criterion):\n",
        "    EPS = 1e-15\n",
        "    def __init__(self):\n",
        "        a = super(ClassNLLCriterionUnstable, self)\n",
        "        super(ClassNLLCriterionUnstable, self).__init__()\n",
        "\n",
        "    def updateOutput(self, input, target):\n",
        "\n",
        "        # Use this trick to avoid numerical errors\n",
        "        input_clamp = np.clip(input, self.EPS, 1 - self.EPS)\n",
        "        self.output = -np.sum(target * np.log(input_clamp)) / input_clamp.shape[0]\n",
        "        return self.output\n",
        "\n",
        "    def updateGradInput(self, input, target):\n",
        "\n",
        "        # Use this trick to avoid numerical errors\n",
        "        input_clamp = np.clip(input, self.EPS, 1 - self.EPS)\n",
        "        self.gradInput = -target / input_clamp / input.shape[0]\n",
        "        return self.gradInput\n",
        "\n",
        "    def __repr__(self):\n",
        "        return \"ClassNLLCriterionUnstable\""
      ]
    },
    {
      "cell_type": "markdown",
      "metadata": {
        "id": "uHr_JbU5j6ec"
      },
      "source": [
        "## 15. (0.3) Negative LogLikelihood criterion (numerically stable)\n",
        "- input:   **`batch_size x n_feats`** - log probabilities\n",
        "- target: **`batch_size x n_feats`** - one-hot representation of ground truth\n",
        "- output: **scalar**\n",
        "\n",
        "Task is similar to the previous one, but now the criterion input is the output of log-softmax layer. This decomposition allows us to avoid problems with computation of forward and backward of log()."
      ]
    },
    {
      "cell_type": "code",
      "execution_count": null,
      "metadata": {
        "collapsed": true,
        "id": "v7N8bVP9j6ec"
      },
      "outputs": [],
      "source": [
        "class ClassNLLCriterion(Criterion):\n",
        "    def __init__(self):\n",
        "        a = super(ClassNLLCriterion, self)\n",
        "        super(ClassNLLCriterion, self).__init__()\n",
        "\n",
        "    def updateOutput(self, input, target):\n",
        "       self.output = -np.sum(target * input) / input.shape[0]\n",
        "       return self.output\n",
        "\n",
        "    def updateGradInput(self, input, target):\n",
        "      self.gradInput = -target / input.shape[0]\n",
        "      return self.gradInput\n",
        "\n",
        "    def __repr__(self):\n",
        "        return \"ClassNLLCriterion\""
      ]
    },
    {
      "cell_type": "code",
      "execution_count": null,
      "metadata": {
        "collapsed": true,
        "id": "E-ZnhKxaj6ed"
      },
      "outputs": [],
      "source": []
    },
    {
      "cell_type": "markdown",
      "source": [
        "1-я часть задания: реализация слоев, лосей и функций активации - 5 баллов. \\\\\n",
        "2-я часть задания: реализация моделей на своих классах. Что должно быть:\n",
        "  1. Выберите оптимизатор и реализуйте его, чтоб он работал с вами классами. - 1 балл.\n",
        "  2. Модель для задачи мультирегрессии на выбраных вами данных. Использовать FCNN, dropout, batchnorm, MSE. Пробуйте различные фукнции активации. Для первой модели попробуйте большую, среднюю и маленькую модель. - 1 балл.\n",
        "  3. Модель для задачи мультиклассификации на MNIST. Использовать свёртки, макспулы, флэттэны, софтмаксы - 1 балла.\n",
        "  4. Автоэнкодер для выбранных вами данных. Должен быть на свёртках и полносвязных слоях, дропаутах, батчнормах и тд. - 2 балла. \\\\\n",
        "\n",
        "Дополнительно в оценке каждой модели будет учитываться:\n",
        "1. Наличие правильно выбранной метрики и лосс функции.\n",
        "2. Отрисовка графиков лосей и метрик на трейне-валидации. Проверка качества модели на тесте.\n",
        "3. Наличие шедулера для lr.\n",
        "4. Наличие вормапа.\n",
        "5. Наличие механизма ранней остановки и сохранение лучшей модели.\n",
        "6. Свитч лося (метрики) и оптимайзера."
      ],
      "metadata": {
        "id": "TC2Bf1PP2Ios"
      }
    },
    {
      "cell_type": "code",
      "source": [
        "class SGD(Module):\n",
        "    def __init__(self, model, lr=0.01, momentum=0.0, weight_decay=0.0):\n",
        "\n",
        "        self.model = model\n",
        "        self.lr = lr\n",
        "        self.momentum = momentum\n",
        "        self.weight_decay = weight_decay\n",
        "        self.velocities = []\n",
        "\n",
        "        params = self._flatten_parameters(self.model.getParameters())\n",
        "        for param in params:\n",
        "            self.velocities.append(np.zeros_like(param))\n",
        "\n",
        "    def _flatten_parameters(self, parameters):\n",
        "\n",
        "        flat_params = []\n",
        "        for module_params in parameters:\n",
        "            for param in module_params:\n",
        "                flat_params.append(param)\n",
        "        return flat_params\n",
        "\n",
        "    def _flatten_gradients(self, gradients):\n",
        "\n",
        "        flat_grads = []\n",
        "        for module_grads in gradients:\n",
        "            for grad in module_grads:\n",
        "                flat_grads.append(grad)\n",
        "        return flat_grads\n",
        "\n",
        "    def step(self):\n",
        "\n",
        "        params = self._flatten_parameters(self.model.getParameters())\n",
        "        grads = self._flatten_gradients(self.model.getGradParameters())\n",
        "\n",
        "        for i, (param, grad) in enumerate(zip(params, grads)):\n",
        "            if self.weight_decay != 0:\n",
        "                grad += self.weight_decay * param\n",
        "\n",
        "            if self.momentum != 0:\n",
        "                self.velocities[i] = self.momentum * self.velocities[i] + self.lr * grad\n",
        "                param -= self.velocities[i]\n",
        "            else:\n",
        "                param -= self.lr * grad\n",
        "\n",
        "    def zero_grad(self):\n",
        "\n",
        "        self.model.zeroGradParameters()"
      ],
      "metadata": {
        "id": "dSEt-Q4czf4M"
      },
      "execution_count": 204,
      "outputs": []
    }
  ],
  "metadata": {
    "kernelspec": {
      "display_name": "Python 2",
      "language": "python",
      "name": "python2"
    },
    "language_info": {
      "codemirror_mode": {
        "name": "ipython",
        "version": 2
      },
      "file_extension": ".py",
      "mimetype": "text/x-python",
      "name": "python",
      "nbconvert_exporter": "python",
      "pygments_lexer": "ipython2",
      "version": "2.7.12"
    },
    "colab": {
      "provenance": []
    }
  },
  "nbformat": 4,
  "nbformat_minor": 0
}